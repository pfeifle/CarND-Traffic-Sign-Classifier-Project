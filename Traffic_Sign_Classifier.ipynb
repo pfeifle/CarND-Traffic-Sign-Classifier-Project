{
 "cells": [
  {
   "cell_type": "markdown",
   "metadata": {},
   "source": [
    "# Self-Driving Car Engineer Nanodegree\n",
    "\n",
    "## Deep Learning\n",
    "\n",
    "## Project: Build a Traffic Sign Recognition Classifier\n",
    "\n",
    "In this notebook, a template is provided for you to implement your functionality in stages which is required to successfully complete this project. If additional code is required that cannot be included in the notebook, be sure that the Python code is successfully imported and included in your submission, if necessary. Sections that begin with **'Implementation'** in the header indicate where you should begin your implementation for your project. Note that some sections of implementation are optional, and will be marked with **'Optional'** in the header.\n",
    "\n",
    "In addition to implementing code, there will be questions that you must answer which relate to the project and your implementation. Each section where you will answer a question is preceded by a **'Question'** header. Carefully read each question and provide thorough answers in the following text boxes that begin with **'Answer:'**. Your project submission will be evaluated based on your answers to each of the questions and the implementation you provide.\n",
    "\n",
    ">**Note:** Code and Markdown cells can be executed using the **Shift + Enter** keyboard shortcut. In addition, Markdown cells can be edited by typically double-clicking the cell to enter edit mode."
   ]
  },
  {
   "cell_type": "markdown",
   "metadata": {},
   "source": [
    "---\n",
    "## Step 0: Load The Data"
   ]
  },
  {
   "cell_type": "code",
   "execution_count": 1,
   "metadata": {
    "collapsed": false
   },
   "outputs": [],
   "source": [
    "# Load pickled data\n",
    "import pickle\n",
    "\n",
    "# TODO: Fill this in based on where you saved the training and testing data\n",
    "\n",
    "training_file = '.\\\\data\\\\train.p'\n",
    "testing_file = '.\\\\data\\\\test.p'\n",
    "\n",
    "with open(training_file, mode='rb') as f:\n",
    "    train = pickle.load(f)\n",
    "with open(testing_file, mode='rb') as f:\n",
    "    test = pickle.load(f)\n",
    "    \n",
    "#mp X_train, y_train = train['features'], train['labels']\n",
    "#mp X_test, y_test = test['features'], test['labels']"
   ]
  },
  {
   "cell_type": "markdown",
   "metadata": {},
   "source": [
    "---\n",
    "\n",
    "## Step 1: Dataset Summary & Exploration\n",
    "\n",
    "The pickled data is a dictionary with 4 key/value pairs:\n",
    "\n",
    "- `'features'` is a 4D array containing raw pixel data of the traffic sign images, (num examples, width, height, channels).\n",
    "- `'labels'` is a 2D array containing the label/class id of the traffic sign. The file `signnames.csv` contains id -> name mappings for each id.\n",
    "- `'sizes'` is a list containing tuples, (width, height) representing the the original width and height the image.\n",
    "- `'coords'` is a list containing tuples, (x1, y1, x2, y2) representing coordinates of a bounding box around the sign in the image. **THESE COORDINATES ASSUME THE ORIGINAL IMAGE. THE PICKLED DATA CONTAINS RESIZED VERSIONS (32 by 32) OF THESE IMAGES**\n",
    "\n",
    "Complete the basic data summary below."
   ]
  },
  {
   "cell_type": "code",
   "execution_count": 2,
   "metadata": {
    "collapsed": false
   },
   "outputs": [
    {
     "name": "stdout",
     "output_type": "stream",
     "text": [
      "Number of training examples = 39209\n",
      "Number of testing examples = 12630\n",
      "Image data shape (train object sizes 0) = [29 30]\n",
      "Image data shape (train object features 0) = (32, 32, 3)\n",
      "[ 0  1  2  3  4  5  6  7  8  9 10 11 12 13 14 15 16 17 18 19 20 21 22 23 24\n",
      " 25 26 27 28 29 30 31 32 33 34 35 36 37 38 39 40 41 42]\n",
      "Number of training classes = 43\n",
      "[ 0  1  2  3  4  5  6  7  8  9 10 11 12 13 14 15 16 17 18 19 20 21 22 23 24\n",
      " 25 26 27 28 29 30 31 32 33 34 35 36 37 38 39 40 41 42]\n",
      "Number of testing classes = 43\n"
     ]
    }
   ],
   "source": [
    "### Replace each question mark with the appropriate value.\n",
    "import numpy as np\n",
    "\n",
    "\n",
    "# TODO: Number of training examples\n",
    "n_train = len(train['features']) #ok\n",
    "# TODO: Number of testing examples.\n",
    "n_test = len(test['features']) #ok\n",
    "\n",
    "# TODO: What's the shape of an traffic sign image?\n",
    "image_shape_train = train['sizes'][0] # unclear what to do here in detail. The shape of the first image is returned\n",
    "image_shape_train_features = train['features'][0].shape # unclear what to do here in detail. The shape of the first image is returned\n",
    "\n",
    "# TODO: How many unique classes/labels there are in the dataset.\n",
    "n_classes_train = len(np.unique(train['labels'])) #ok\n",
    "n_classes_test = len(np.unique(test['labels'])) #ok\n",
    "\n",
    "print(\"Number of training examples =\", n_train)\n",
    "print(\"Number of testing examples =\", n_test)\n",
    "print(\"Image data shape (train object sizes 0) =\", image_shape_train)\n",
    "print(\"Image data shape (train object features 0) =\", image_shape_train_features)\n",
    "print(np.unique(train['labels']))\n",
    "print(\"Number of training classes =\", n_classes_train)\n",
    "print(np.unique(test['labels']))\n",
    "print(\"Number of testing classes =\", n_classes_test)\n"
   ]
  },
  {
   "cell_type": "markdown",
   "metadata": {},
   "source": [
    "Visualize the German Traffic Signs Dataset using the pickled file(s). This is open ended, suggestions include: plotting traffic sign images, plotting the count of each sign, etc.\n",
    "\n",
    "The [Matplotlib](http://matplotlib.org/) [examples](http://matplotlib.org/examples/index.html) and [gallery](http://matplotlib.org/gallery.html) pages are a great resource for doing visualizations in Python.\n",
    "\n",
    "**NOTE:** It's recommended you start with something simple first. If you wish to do more, come back to it after you've completed the rest of the sections."
   ]
  },
  {
   "cell_type": "code",
   "execution_count": 3,
   "metadata": {
    "collapsed": false,
    "scrolled": true
   },
   "outputs": [
    {
     "name": "stdout",
     "output_type": "stream",
     "text": [
      "25\n",
      "(32, 32, 3)\n"
     ]
    },
    {
     "data": {
      "image/png": "[encoded data removed]",
      "text/plain": [
       "<matplotlib.figure.Figure at 0x5a50898>"
      ]
     },
     "metadata": {},
     "output_type": "display_data"
    }
   ],
   "source": [
    "import random\n",
    "import numpy as np\n",
    "import matplotlib.pyplot as plt\n",
    "%matplotlib inline\n",
    "\n",
    "index = random.randint(0, len(test['features']))\n",
    "image = test['features'][index]\n",
    "\n",
    "plt.figure(figsize=(1,1))\n",
    "plt.imshow(image, cmap=\"gray\")\n",
    "#plt.imshow(image)\n",
    "print(test['labels'][index])\n",
    "print(image.shape)"
   ]
  },
  {
   "cell_type": "markdown",
   "metadata": {},
   "source": [
    "The following code block contains some \"playing code\" to understand the input data better. The project does not need this code block. The code should finally be deleted."
   ]
  },
  {
   "cell_type": "code",
   "execution_count": 4,
   "metadata": {
    "collapsed": false
   },
   "outputs": [
    {
     "name": "stdout",
     "output_type": "stream",
     "text": [
      "25\n",
      "<class 'numpy.uint8'>\n",
      "[27 27]\n",
      "[ 5  5 22 22]\n",
      "x-extension:  0.744186\n",
      "y-extension:  0.767442\n",
      "12630\n",
      "12630\n",
      "39209\n",
      "39209\n",
      "[43 43]\n",
      "(32, 32, 3)\n"
     ]
    }
   ],
   "source": [
    "### some test functions to understand the input data better\n",
    "\n",
    "i=50\n",
    "print(test['labels'][i])\n",
    "print(type(test['labels'][i]))\n",
    "print(test['sizes'][i])\n",
    "print(test['coords'][i])\n",
    "print(\"x-extension: \", (train['coords'][i][2]-train['coords'][i][0]) / train['sizes'][i][0])\n",
    "print(\"y-extension: \", (train['coords'][i][3]-train['coords'][i][1]) / train['sizes'][i][1])\n",
    "\n",
    "print(len(test['sizes']))\n",
    "print(len(test['features']))\n",
    "print(len(train['sizes']))\n",
    "print(len(train['features']))\n",
    "print(train['sizes'][i])\n",
    "print(test['features'][3].shape)\n",
    "\n",
    "      \n"
   ]
  },
  {
   "cell_type": "markdown",
   "metadata": {},
   "source": [
    "----\n",
    "\n",
    "## Step 2: Design and Test a Model Architecture\n",
    "\n",
    "Design and implement a deep learning model that learns to recognize traffic signs. Train and test your model on the [German Traffic Sign Dataset](http://benchmark.ini.rub.de/?section=gtsrb&subsection=dataset).\n",
    "\n",
    "There are various aspects to consider when thinking about this problem:\n",
    "\n",
    "- Neural network architecture\n",
    "- Play around preprocessing techniques (normalization, rgb to grayscale, etc)\n",
    "- Number of examples per label (some have more than others).\n",
    "- Generate fake data.\n",
    "\n",
    "Here is an example of a [published baseline model on this problem](http://yann.lecun.com/exdb/publis/pdf/sermanet-ijcnn-11.pdf). It's not required to be familiar with the approach used in the paper but, it's good practice to try to read papers like these.\n",
    "\n",
    "**NOTE:** The LeNet-5 implementation shown in the [classroom](https://classroom.udacity.com/nanodegrees/nd013/parts/fbf77062-5703-404e-b60c-95b78b2f3f9e/modules/6df7ae49-c61c-4bb2-a23e-6527e69209ec/lessons/601ae704-1035-4287-8b11-e2c2716217ad/concepts/d4aca031-508f-4e0b-b493-e7b706120f81) at the end of the CNN lesson is a solid starting point. You'll have to change the number of classes and possibly the preprocessing, but aside from that it's plug and play!"
   ]
  },
  {
   "cell_type": "markdown",
   "metadata": {},
   "source": [
    "### Implementation\n",
    "\n",
    "Use the code cell (or multiple code cells, if necessary) to implement the first step of your project. Once you have completed your implementation and are satisfied with the results, be sure to thoroughly answer the questions that follow."
   ]
  },
  {
   "cell_type": "code",
   "execution_count": 5,
   "metadata": {
    "collapsed": false,
    "scrolled": true
   },
   "outputs": [
    {
     "name": "stdout",
     "output_type": "stream",
     "text": [
      "13\n"
     ]
    },
    {
     "data": {
      "image/png": "[encoded data removed]",
      "text/plain": [
       "<matplotlib.figure.Figure at 0x7b6c208>"
      ]
     },
     "metadata": {},
     "output_type": "display_data"
    }
   ],
   "source": [
    "# In this code block the training images will be transformed into \n",
    "# gray-scale images. Each image can later on be represented as a 32x32 \n",
    "# feature vector\n",
    "# Input: train['features']\n",
    "# Output: gray_train_features\n",
    "# Author: Martin Pfeifle\n",
    "\n",
    "import random\n",
    "import matplotlib.pyplot as plt\n",
    "import matplotlib.image as mpimg\n",
    "import numpy as np\n",
    "import cv2\n",
    "%matplotlib inline\n",
    "\n",
    "def grayscale(img): # copy from lane detection program\n",
    "    return cv2.cvtColor(img, cv2.COLOR_BGR2GRAY)\n",
    "\n",
    "gray_train_features  = np.zeros((len(train['features']),32,32))\n",
    "for i in range(len(train['features'])):\n",
    "    gray_train_features[i] = grayscale (train['features'][i])\n",
    "\n",
    "#Test - Depict one gray training image\n",
    "index = random.randint(0, len(gray_train_features))\n",
    "image = gray_train_features[index]\n",
    "\n",
    "plt.figure(figsize=(1,1))\n",
    "plt.imshow(image, cmap=\"gray\")\n",
    "print(train['labels'][index])"
   ]
  },
  {
   "cell_type": "code",
   "execution_count": 6,
   "metadata": {
    "collapsed": false,
    "scrolled": true
   },
   "outputs": [
    {
     "name": "stdout",
     "output_type": "stream",
     "text": [
      "2\n"
     ]
    },
    {
     "data": {
      "image/png": "[encoded data removed]",
      "text/plain": [
       "<matplotlib.figure.Figure at 0x8bed518>"
      ]
     },
     "metadata": {},
     "output_type": "display_data"
    }
   ],
   "source": [
    "# In this code block the testing images will be transformed into \n",
    "# gray-scale images of size 32x32. Each image can later on be represented as a 32x32 \n",
    "# feature vector. Both normalization and grayscale is done for the test images\n",
    "# in this function.\n",
    "# Input: test['features']\n",
    "# Output: gray_test_features\n",
    "# Author: Martin Pfeifle\n",
    "\n",
    "import random\n",
    "import matplotlib.pyplot as plt\n",
    "import matplotlib.image as mpimg\n",
    "import numpy as np\n",
    "import cv2\n",
    "%matplotlib inline\n",
    "\n",
    "def grayscale(img): # copy from lane detection program\n",
    "    return cv2.cvtColor(img, cv2.COLOR_BGR2GRAY)\n",
    "\n",
    "gray_test_features  = np.zeros((len(test['features']),32,32))\n",
    "for i in range(len(test['features'])):\n",
    "    gray_test_features[i] = grayscale (test['features'][i])\n",
    "\n",
    "#Test - Depict one gray test image\n",
    "index = random.randint(0, len(gray_test_features))\n",
    "image = gray_test_features[index]\n",
    "\n",
    "plt.figure(figsize=(1,1))\n",
    "plt.imshow(image, cmap=\"gray\")\n",
    "print(test['labels'][index])"
   ]
  },
  {
   "cell_type": "markdown",
   "metadata": {},
   "source": [
    "The following code block creates\n",
    "* X_train\n",
    "* y_train\n",
    "* X_Validation\n",
    "* y_valdiation\n",
    "* X_test\n",
    "* y_test\n",
    "\n",
    "The idea is that x_train and X_Validation contain data in a 2-dimensional matrix (number of train images, 1024). So each image is represented as a 1024 dimensional feature vector. y_train and y_validation contain the corresponding one-hot encoded class values.\n",
    "\n",
    "X_test and y_test have the same format but contain different images which are not used during training."
   ]
  },
  {
   "cell_type": "code",
   "execution_count": 7,
   "metadata": {
    "collapsed": false
   },
   "outputs": [],
   "source": [
    "from sklearn.utils import shuffle\n",
    "\n",
    "X_train = np.empty([len(gray_train_features),1024])\n",
    "for i in range(len(X_train)):\n",
    "    X_train[i]=np.reshape(gray_train_features[i],1024)\n",
    "y_train = train['labels']\n",
    "\n",
    "X_validation, y_validation = X_train, y_train\n",
    "\n",
    "X_test = np.empty([len(gray_test_features),1024])\n",
    "for i in range(len(X_test)):\n",
    "    X_test[i]=np.reshape(gray_test_features[i],1024)\n",
    "y_test = test['labels']\n",
    "\n",
    "X_train, y_train = shuffle(X_train, y_train)"
   ]
  },
  {
   "cell_type": "code",
   "execution_count": 8,
   "metadata": {
    "collapsed": true
   },
   "outputs": [],
   "source": [
    "import tensorflow as tf\n",
    "\n",
    "EPOCHS = 10\n",
    "BATCH_SIZE = 50"
   ]
  },
  {
   "cell_type": "markdown",
   "metadata": {},
   "source": [
    "The parameter *x* for LeNet is a 1024-dimensional feature vector which is first transformed into a 32x32 image  "
   ]
  },
  {
   "cell_type": "code",
   "execution_count": 9,
   "metadata": {
    "collapsed": true
   },
   "outputs": [],
   "source": [
    "from tensorflow.contrib.layers import flatten\n",
    "\n",
    "def LeNet(x):\n",
    "    # Reshape from 2D to 4D. This prepares the data for\n",
    "    # convolutional and pooling layers.\n",
    "    x = tf.reshape(x, (-1, 32, 32, 1))\n",
    "    # Pad 0s to 32x32. Centers the digit further.\n",
    "    # Add 2 rows/columns on each side for height and width dimensions.\n",
    "    # mp: was commented out. strangely enough it was working with padding although the  input is already 32x32 \n",
    "    # x = tf.pad(x, [[0, 0], [2, 2], [2, 2], [0, 0]], mode=\"CONSTANT\")\n",
    "    \n",
    "    # Hyperparameters\n",
    "    mu = 0\n",
    "    sigma = 0.1\n",
    "    \n",
    "    # SOLUTION: Convolution Layer 1. Input = 32x32x1. Output = 28x28x6.\n",
    "    conv1_W = tf.Variable(tf.truncated_normal(shape=(5, 5, 1, 6), mean = mu, stddev = sigma))\n",
    "    conv1_b = tf.Variable(tf.zeros(6))\n",
    "    conv1   = tf.nn.conv2d(x, conv1_W, strides=[1, 1, 1, 1], padding='VALID') + conv1_b\n",
    "\n",
    "    # SOLUTION: Activation 1.\n",
    "    conv1 = tf.nn.relu(conv1)\n",
    "\n",
    "    # SOLUTION: Pooling Layer 1. Input = 28x28x6. Output = 14x14x6.\n",
    "    conv1 = tf.nn.max_pool(conv1, ksize=[1, 2, 2, 1], strides=[1, 2, 2, 1], padding='VALID')\n",
    "\n",
    "    # SOLUTION: Convolution Layer 2. Output = 10x10x16.\n",
    "    conv2_W = tf.Variable(tf.truncated_normal(shape=(5, 5, 6, 16), mean = mu, stddev = sigma))\n",
    "    conv2_b = tf.Variable(tf.zeros(16))\n",
    "    conv2   = tf.nn.conv2d(conv1, conv2_W, strides=[1, 1, 1, 1], padding='VALID') + conv2_b\n",
    "    \n",
    "    # SOLUTION: Activation 2.\n",
    "    conv2 = tf.nn.relu(conv2)\n",
    "\n",
    "    # SOLUTION: Pooling Layer 2. Input = 10x10x16. Output = 5x5x16.\n",
    "    conv2 = tf.nn.max_pool(conv2, ksize=[1, 2, 2, 1], strides=[1, 2, 2, 1], padding='VALID')\n",
    "\n",
    "    # SOLUTION: Flatten Layer.\n",
    "    fc1 = flatten(conv2)\n",
    "    fc1_shape = (fc1.get_shape().as_list()[-1], 120)\n",
    "    \n",
    "    # SOLUTION: Fully Connected Layer 1. Input = 5x5x16. Output = 120.\n",
    "    fc1_W     = tf.Variable(tf.truncated_normal(shape=(fc1_shape), mean = mu, stddev = sigma))\n",
    "    fc1_b     = tf.Variable(tf.zeros(120))\n",
    "    fc1       = tf.matmul(fc1, fc1_W) + fc1_b\n",
    "    \n",
    "    # SOLUTION: Activation 3.\n",
    "    fc1 = tf.nn.relu(fc1)\n",
    "\n",
    "    # SOLUTION: Fully Connected Layer 2. Input = 120. Output = 43.\n",
    "    fc2_W  = tf.Variable(tf.truncated_normal(shape=(120, 43), mean = mu, stddev = sigma))\n",
    "    fc2_b  = tf.Variable(tf.zeros(43))\n",
    "    logits = tf.matmul(fc1, fc2_W) + fc2_b\n",
    "    return logits"
   ]
  },
  {
   "cell_type": "code",
   "execution_count": 10,
   "metadata": {
    "collapsed": true
   },
   "outputs": [],
   "source": [
    "def evaluate(X_data, y_data):\n",
    "    num_examples = len(X_data)\n",
    "    total_accuracy, total_loss = 0, 0\n",
    "    sess = tf.get_default_session()\n",
    "    for offset in range(0, num_examples, BATCH_SIZE):\n",
    "        batch_x, batch_y = X_data[offset:offset+BATCH_SIZE], y_data[offset:offset+BATCH_SIZE]\n",
    "        loss, accuracy =  sess.run([loss_operation, accuracy_operation], feed_dict={x: batch_x, y: batch_y})\n",
    "        total_accuracy += (accuracy * batch_x.shape[0])\n",
    "        total_loss     += (loss * batch_x.shape[0])\n",
    "    return total_loss / num_examples, total_accuracy / num_examples"
   ]
  },
  {
   "cell_type": "code",
   "execution_count": 11,
   "metadata": {
    "collapsed": false
   },
   "outputs": [],
   "source": [
    "x = tf.placeholder(tf.float32, (None, 1024))\n",
    "y = tf.placeholder(tf.int32, (None))\n",
    "one_hot_y = tf.one_hot(y, 43)"
   ]
  },
  {
   "cell_type": "code",
   "execution_count": 12,
   "metadata": {
    "collapsed": true
   },
   "outputs": [],
   "source": [
    "logits = LeNet(x)\n",
    "loss_operation = tf.reduce_mean(tf.nn.softmax_cross_entropy_with_logits(logits, one_hot_y))\n",
    "optimizer = tf.train.AdamOptimizer()\n",
    "training_operation = optimizer.minimize(loss_operation)\n",
    "correct_prediction = tf.equal(tf.argmax(logits, 1), tf.argmax(one_hot_y, 1))\n",
    "accuracy_operation = tf.reduce_mean(tf.cast(correct_prediction, tf.float32))"
   ]
  },
  {
   "cell_type": "code",
   "execution_count": 15,
   "metadata": {
    "collapsed": false,
    "scrolled": true
   },
   "outputs": [
    {
     "name": "stdout",
     "output_type": "stream",
     "text": [
      "Training...\n",
      "\n",
      "EPOCH 1 ...\n",
      "Validation Loss     = 0.419\n",
      "Validation Accuracy = 0.890\n",
      "Model saved  0\n",
      "\n",
      "EPOCH 2 ...\n",
      "Validation Loss     = 0.235\n",
      "Validation Accuracy = 0.940\n",
      "Model saved  1\n",
      "\n",
      "EPOCH 3 ...\n",
      "Validation Loss     = 0.174\n",
      "Validation Accuracy = 0.958\n",
      "Model saved  2\n",
      "\n",
      "EPOCH 4 ...\n",
      "Validation Loss     = 0.128\n",
      "Validation Accuracy = 0.966\n",
      "Model saved  3\n",
      "\n",
      "EPOCH 5 ...\n",
      "Validation Loss     = 0.078\n",
      "Validation Accuracy = 0.978\n",
      "Model saved  4\n",
      "\n",
      "EPOCH 6 ...\n",
      "Validation Loss     = 0.132\n",
      "Validation Accuracy = 0.966\n",
      "Model saved  5\n",
      "\n",
      "EPOCH 7 ...\n",
      "Validation Loss     = 0.064\n",
      "Validation Accuracy = 0.982\n",
      "Model saved  6\n",
      "\n",
      "EPOCH 8 ...\n",
      "Validation Loss     = 0.051\n",
      "Validation Accuracy = 0.985\n",
      "Model saved  7\n",
      "\n",
      "EPOCH 9 ...\n",
      "Validation Loss     = 0.060\n",
      "Validation Accuracy = 0.984\n",
      "Model saved  8\n",
      "\n",
      "EPOCH 10 ...\n",
      "Validation Loss     = 0.072\n",
      "Validation Accuracy = 0.980\n",
      "Model saved  9\n",
      "\n"
     ]
    }
   ],
   "source": [
    "import numpy as np\n",
    "\n",
    "with tf.Session() as sess:\n",
    "    sess.run(tf.global_variables_initializer())\n",
    "    num_examples = len(X_train)    \n",
    "    try:\n",
    "        saver\n",
    "    except NameError:\n",
    "        saver = tf.train.Saver()\n",
    "    # Important so that in each Epoch run examples from all traffic sign classes are used    \n",
    "    X_train, y_train = shuffle(X_train, y_train)\n",
    "    print(\"Training...\")\n",
    "    print()\n",
    "    for i in range (EPOCHS):\n",
    "        X_validation_epoch_run = X_train[int(i*0.1*num_examples): int((i+1)*0.1*num_examples)]\n",
    "        y_validation_epoch_run = y_train[int(i*0.1*num_examples): int((i+1)*0.1*num_examples)]\n",
    "        \n",
    "        X_train_epoch_run_1 = X_train[0: int(i*0.1*num_examples)]\n",
    "        X_train_epoch_run_2 = X_train[int((i+1)*0.1*num_examples)+1:num_examples] \n",
    "        X_train_epoch_run = np.concatenate ((X_train_epoch_run_1,X_train_epoch_run_2))\n",
    "        \n",
    "        y_train_epoch_run_1 = y_train[0: int(i*0.1*num_examples)]\n",
    "        y_train_epoch_run_2 = y_train[int((i+1)*0.1*num_examples)+1:num_examples] \n",
    "        y_train_epoch_run = np.concatenate ((y_train_epoch_run_1,y_train_epoch_run_2))\n",
    "        \n",
    "        X_train_epoch_run, y_train_epoch_run = shuffle(X_train_epoch_run, y_train_epoch_run)\n",
    "        for offset in range(0, len(X_train_epoch_run), BATCH_SIZE):\n",
    "            end = offset + BATCH_SIZE\n",
    "            batch_x, batch_y = X_train_epoch_run[offset:end], y_train_epoch_run[offset:end]\n",
    "            loss = sess.run(training_operation, feed_dict={x: batch_x, y: batch_y})\n",
    "            \n",
    "        validation_loss, validation_accuracy = evaluate(X_validation_epoch_run, y_validation_epoch_run)\n",
    "        print(\"EPOCH {} ...\".format(i+1))\n",
    "        print(\"Validation Loss     = {:.3f}\".format(validation_loss))\n",
    "        print(\"Validation Accuracy = {:.3f}\".format(validation_accuracy))\n",
    "        saver.save(sess, '.\\lenet',global_step=i)\n",
    "        print(\"Model saved \", i)\n",
    "        print()"
   ]
  },
  {
   "cell_type": "code",
   "execution_count": 25,
   "metadata": {
    "collapsed": false
   },
   "outputs": [
    {
     "name": "stdout",
     "output_type": "stream",
     "text": [
      "Test Loss     = 0.899\n",
      "Test Accuracy = 0.895\n"
     ]
    }
   ],
   "source": [
    "with tf.Session() as sess:\n",
    "    loader = tf.train.import_meta_graph('lenet-9.meta')\n",
    "    loader.restore(sess, tf.train.latest_checkpoint('./'))\n",
    "    test_loss, test_accuracy = evaluate(X_test, y_test)\n",
    "    print(\"Test Loss     = {:.3f}\".format(test_loss))\n",
    "    print(\"Test Accuracy = {:.3f}\".format(test_accuracy))\n"
   ]
  },
  {
   "cell_type": "markdown",
   "metadata": {
    "collapsed": true
   },
   "source": [
    "### Question 1 \n",
    "\n",
    "_Describe how you preprocessed the data. Why did you choose that technique?_"
   ]
  },
  {
   "cell_type": "markdown",
   "metadata": {},
   "source": [
    "**Answer:**"
   ]
  },
  {
   "cell_type": "markdown",
   "metadata": {
    "collapsed": true
   },
   "source": [
    "* The coloured training and testing traffic sign immages were transformed into gray images by using OpenCV cv2.cvtColor(img, cv2.COLOR_BGR2GRAY), i.e. an image is transformed from (32x32x3) to (32x32x1)\n",
    "* Botht the training and testing data were transformed into a one dimensional feature vector, i.e. a transformation from (32x32x1) to (0124x1)\n",
    "* Based on this techique the LeNet code from LeNet-Lab could be used by only  a simple change, i.e. removal of the padding step."
   ]
  },
  {
   "cell_type": "markdown",
   "metadata": {},
   "source": [
    "### Question 2\n",
    "\n",
    "_Describe how you set up the training, validation and testing data for your model. **Optional**: If you generated additional data, how did you generate the data? Why did you generate the data? What are the differences in the new dataset (with generated data) from the original dataset?_"
   ]
  },
  {
   "cell_type": "markdown",
   "metadata": {},
   "source": [
    "**Answer:**"
   ]
  },
  {
   "cell_type": "markdown",
   "metadata": {
    "collapsed": true
   },
   "source": [
    "* The input data were already divided into Training nd Test data\n",
    "* The given ratio between Test/(Test+Training) was 12630 / (12630+39209) which fits quite well to the 20%-rule of thumb mentioned in the course.\n",
    "* The concept of cross-validation was applied for the training set. In each run of the 10-runs, 10% of the training data were used for validation and 90% for the training. In the first run, the validation set contained the first 10% of the training data, in the 2nd set it contained training data from 10-20%, etc.\n",
    "* Epoch was set to 10 as there seems no big accuracy improvement any more after run 6"
   ]
  },
  {
   "cell_type": "markdown",
   "metadata": {},
   "source": [
    "### Question 3\n",
    "\n",
    "_What does your final architecture look like? (Type of model, layers, sizes, connectivity, etc.)  For reference on how to build a deep neural network using TensorFlow, see [Deep Neural Network in TensorFlow\n",
    "](https://classroom.udacity.com/nanodegrees/nd013/parts/fbf77062-5703-404e-b60c-95b78b2f3f9e/modules/6df7ae49-c61c-4bb2-a23e-6527e69209ec/lessons/b516a270-8600-4f93-a0a3-20dfeabe5da6/concepts/83a3a2a2-a9bd-4b7b-95b0-eb924ab14432) from the classroom._\n"
   ]
  },
  {
   "cell_type": "markdown",
   "metadata": {},
   "source": [
    "**Answer:**"
   ]
  },
  {
   "cell_type": "markdown",
   "metadata": {
    "collapsed": true
   },
   "source": [
    "The model was exactly the sameone as used in the LetNet-Lab except that the first padding step which enlarged the images from 28x28 to 32x32 was skipped as the traffic signs were already of size 32x32. So the following steps were carried out:\n",
    "* Convolution Layer with Input = 32x32x1 and Output = 28x28x6.\n",
    "* Activation with relu\n",
    "* Pooling Layer with Input = 28x28x6 and Output = 14x14x6.\n",
    "* Convolution Layer with Output = 10x10x16\n",
    "* Activation with relu \n",
    "* Pooling Layer with Input = 10x10x16 and Output = 5x5x16.\n",
    "* Flatten Layer from 5x5x16 to 400x1 \n",
    "* Fully Connected Layer with Input =400 and Output = 120.\n",
    "* Activation with relu\n",
    "* Fully Connected Layer with Input = 120 and Output = 43"
   ]
  },
  {
   "cell_type": "markdown",
   "metadata": {},
   "source": [
    "### Question 4\n",
    "\n",
    "_How did you train your model? (Type of optimizer, batch size, epochs, hyperparameters, etc.)_\n"
   ]
  },
  {
   "cell_type": "markdown",
   "metadata": {},
   "source": [
    "**Answer:**"
   ]
  },
  {
   "cell_type": "markdown",
   "metadata": {
    "collapsed": true
   },
   "source": [
    "The parameters were the same as in LetNet-Lab project:\n",
    "* Epoch: 10\n",
    "* Batch Size: 50\n",
    "* distribution parameters for initial weights:  mu = 0 and sigma = 0.1\n",
    "* intial bias values were set to 0"
   ]
  },
  {
   "cell_type": "markdown",
   "metadata": {},
   "source": [
    "### Question 5\n",
    "\n",
    "\n",
    "_What approach did you take in coming up with a solution to this problem? It may have been a process of trial and error, in which case, outline the steps you took to get to the final solution and why you chose those steps. Perhaps your solution involved an already well known implementation or architecture. In this case, discuss why you think this is suitable for the current problem._"
   ]
  },
  {
   "cell_type": "markdown",
   "metadata": {},
   "source": [
    "**Answer:**"
   ]
  },
  {
   "cell_type": "markdown",
   "metadata": {
    "collapsed": true
   },
   "source": [
    "The taken approach was to use the already existing LeNet-5 architecture model which is working well for theThe parameters were the same as in LetNet-Lab project:\n",
    "* Epoch: 10\n",
    "* Batch Size: 50\n",
    "* distribution parameters for initial weights:  mu = 0 and sigma = 0.1\n",
    "* intial bias values were set to 0"
   ]
  },
  {
   "cell_type": "markdown",
   "metadata": {},
   "source": [
    "---\n",
    "\n",
    "## Step 3: Test a Model on New Images\n",
    "\n",
    "Take several pictures of traffic signs that you find on the web or around you (at least five), and run them through your classifier on your computer to produce example results. The classifier might not recognize some local signs but it could prove interesting nonetheless.\n",
    "\n",
    "You may find `signnames.csv` useful as it contains mappings from the class id (integer) to the actual sign name."
   ]
  },
  {
   "cell_type": "markdown",
   "metadata": {},
   "source": [
    "### Implementation\n",
    "\n",
    "Use the code cell (or multiple code cells, if necessary) to implement the first step of your project. Once you have completed your implementation and are satisfied with the results, be sure to thoroughly answer the questions that follow."
   ]
  },
  {
   "cell_type": "code",
   "execution_count": null,
   "metadata": {
    "collapsed": true
   },
   "outputs": [],
   "source": [
    "### Load the images and plot them here.\n",
    "### Feel free to use as many code cells as needed."
   ]
  },
  {
   "cell_type": "code",
   "execution_count": 17,
   "metadata": {
    "collapsed": false
   },
   "outputs": [],
   "source": [
    "#importing some useful packages\n",
    "import matplotlib.pyplot as plt\n",
    "import matplotlib.image as mpimg\n",
    "import numpy as np\n",
    "import cv2\n",
    "from PIL import Image\n",
    "%matplotlib inline"
   ]
  },
  {
   "cell_type": "code",
   "execution_count": 18,
   "metadata": {
    "collapsed": false
   },
   "outputs": [],
   "source": [
    "#reading in an image\n",
    "\n",
    "def grayscale(img): # copy from lane detection program\n",
    "    return cv2.cvtColor(img, cv2.COLOR_BGR2GRAY)\n",
    "    \n",
    "def readImage(str):\n",
    "    img=Image.open(str)\n",
    "    image=np.array(img.resize((32, 32)))\n",
    "    #print(image.shape)\n",
    "    image=grayscale(image)\n",
    "    #print(image.shape)\n",
    "    #print (image[0])\n",
    "    return image\n",
    "    #print(image.shape)\n",
    "    #plt.imshow(image,cmap='gray')\n",
    "\n",
    "def readFeatureVector(str):\n",
    "    image=readImage(str)\n",
    "    return np.reshape(image,1024)"
   ]
  },
  {
   "cell_type": "code",
   "execution_count": 19,
   "metadata": {
    "collapsed": false
   },
   "outputs": [],
   "source": [
    "X_myValues = np.zeros((6,1024), dtype=np.float64)\n",
    "y_myValues = np.ones((6), dtype=np.uint8)\n",
    "y_myValues[0]=1\n",
    "y_myValues[1]=2\n",
    "y_myValues[2]=4\n",
    "y_myValues[3]=5\n",
    "y_myValues[4]=5\n",
    "y_myValues[5]=12\n",
    "for i in range(6):\n",
    "    X_myValues[i]=np.reshape(readFeatureVector('./my_signs/image_{}.jpg'.format(i)),1024)"
   ]
  },
  {
   "cell_type": "code",
   "execution_count": 33,
   "metadata": {
    "collapsed": false
   },
   "outputs": [
    {
     "name": "stdout",
     "output_type": "stream",
     "text": [
      "Test Loss     = 6.781\n",
      "Test Accuracy = 0.667\n"
     ]
    }
   ],
   "source": [
    "with tf.Session() as sess:\n",
    "    loader = tf.train.import_meta_graph('lenet-9.meta')\n",
    "    loader.restore(sess, tf.train.latest_checkpoint('./'))\n",
    "    test_loss, test_accuracy = evaluate(X_myValues, y_myValues)\n",
    "    print(\"Test Loss     = {:.3f}\".format(test_loss))\n",
    "    print(\"Test Accuracy = {:.3f}\".format(test_accuracy))"
   ]
  },
  {
   "cell_type": "code",
   "execution_count": 36,
   "metadata": {
    "collapsed": false,
    "scrolled": true
   },
   "outputs": [
    {
     "name": "stdout",
     "output_type": "stream",
     "text": [
      "[[  42.39949036   68.78839874   23.39820099    6.01643419   -3.67559457\n",
      "    21.90452957   19.08986092  -20.08216667  -29.42171288  -68.1297226\n",
      "   -79.2375946   -30.33522224  -22.17114449  -61.62322998   -7.48631716\n",
      "   -59.54653168  -42.31071854  -75.46591949   -0.25578064  -69.99689484\n",
      "    -4.61312675  -17.20106125  -62.50452805  -29.04853249  -43.37317276\n",
      "   -39.16334915  -50.06908417  -49.80498886  -16.83876228  -15.95422459\n",
      "   -35.70689392   -6.87683582  -56.42301941  -62.4939003   -31.08492661\n",
      "   -46.25339508  -51.83313751  -32.84672546   -0.79743296  -73.87335205\n",
      "   -23.75779533  -52.03032684  -76.25318146]\n",
      " [  -2.77536774   14.31983948   22.77472496  -27.43791199   -8.45208168\n",
      "    -8.91980267  -60.93016434  -22.89609337   -5.3954072   -17.00359535\n",
      "   -35.52487946  -21.0022583   -38.97776031  -71.76131439   -8.89557838\n",
      "   -21.4873848   -18.694067    -46.18621063    2.74356818  -45.83314514\n",
      "    -0.58102584  -26.79692841  -47.81990051   -2.71098089  -11.7644453\n",
      "   -51.56538391   -6.51776314  -48.56887054  -48.15219498   -3.12400174\n",
      "   -41.51154327  -31.96867752  -37.37252045  -59.48265839   -9.36938667\n",
      "   -34.5524025   -44.15300751  -17.84098625    8.0456171   -72.57956696\n",
      "    -8.07091522  -53.24374008  -69.30828857]\n",
      " [  25.95275497   33.58727264   14.92048359   -1.59098995   48.354496\n",
      "    13.55828953  -28.24357796  -32.32712173  -16.12738228  -56.5255127\n",
      "   -11.2789917   -68.16387939  -77.50522614  -67.909729     -7.18722343\n",
      "   -40.76483917  -54.58925629  -38.92416763  -13.64244366  -60.83690262\n",
      "   -47.38905716  -38.17474747  -39.05430603  -48.19153976  -39.68190384\n",
      "   -20.8915081   -56.37464523  -86.67241669  -33.48192215  -18.8962059\n",
      "   -68.78927612  -19.71023941  -66.69122314  -23.1183815   -26.76438332\n",
      "   -19.7534256   -55.01010513  -31.34139061  -22.83309555  -24.61625671\n",
      "   -14.59131145  -95.672966    -68.95102692]\n",
      " [   8.66751766   20.12438774  -21.74424934    2.69237947  -53.31435394\n",
      "    -4.49048471  -24.94272614  -32.39310455  -21.77241135  -24.82209778\n",
      "   -14.31717968   10.92231178  -11.18205643  -38.00972748  -32.04563904\n",
      "   -77.32913208  -12.46926212  -51.89574051  -26.45791245   -5.31835222\n",
      "     3.94671273    5.02880144  -34.86417389   19.78105736  -11.33166313\n",
      "   -16.08744049  -54.2658844   -17.2779026    11.74947834   -9.98284149\n",
      "     6.73983431   -2.44154668  -37.14603806  -46.38285065   -5.13539839\n",
      "   -33.15215302  -32.40882874  -25.65673447    4.57758522  -48.04018021\n",
      "     5.80192184  -28.40420723  -49.10500717]\n",
      " [  14.8172102    37.64866638   12.38255215   14.54233265  -22.2934761\n",
      "    22.11561584   -7.59739971  -14.491786    -31.07100868  -41.46394348\n",
      "   -21.00701523  -35.30068588  -39.5320816   -51.17459106  -17.30203819\n",
      "   -37.94768906  -10.04394436  -39.73107147   -5.80766296  -42.40579224\n",
      "   -16.63124847  -42.11471176   -8.4637661   -20.7723999   -24.30683708\n",
      "   -22.27761269  -40.2504425   -66.90705109    1.57939637   14.630373\n",
      "   -40.06643295   -1.30975211  -50.23410416  -71.95250702  -11.26488304\n",
      "   -38.21537781  -27.23644829  -55.18955994    3.62507033  -62.78077698\n",
      "   -24.07206535  -44.19104767  -59.43589401]\n",
      " [ -61.98119736   -4.86403894    1.59509337  -38.50322342  -69.4668045\n",
      "   -32.08345413  -69.46044159    2.88564038  -11.42232704   11.74488831\n",
      "    -9.36006641   31.03857422   89.03434753   10.00122929  -30.1710453\n",
      "   -20.00437546  -42.79896164  -24.95369911  -55.19743729  -28.26931572\n",
      "   -44.3182373    -9.99620247 -130.60734558    3.1089654   -60.27053452\n",
      "   -22.47186279  -14.80538654  -62.26682663  -25.12457657  -51.19664383\n",
      "    -6.93835354  -41.28084183  -30.58482933    3.1797576   -60.05555725\n",
      "    -9.99029064  -58.3661499   -28.0974617   -33.46484756  -75.12833405\n",
      "    50.12750244  -40.84059143   13.19580555]]\n",
      "\n",
      "[  3.46292201e-12   1.00000000e+00   1.93770467e-20   5.47623350e-28\n",
      "   3.38287555e-32   4.35105242e-21   2.60734458e-22   2.53514651e-39\n",
      "   2.22806456e-43   0.00000000e+00   0.00000000e+00   8.96831017e-44\n",
      "   3.13886652e-40   0.00000000e+00   7.48704311e-34   0.00000000e+00\n",
      "   0.00000000e+00   0.00000000e+00   1.03393399e-30   0.00000000e+00\n",
      "   1.32471263e-32   4.52119953e-38   0.00000000e+00   3.23699945e-43\n",
      "   0.00000000e+00   0.00000000e+00   0.00000000e+00   0.00000000e+00\n",
      "   6.49527118e-38   1.57306515e-37   0.00000000e+00   1.37722507e-33\n",
      "   0.00000000e+00   0.00000000e+00   4.20389539e-44   0.00000000e+00\n",
      "   0.00000000e+00   7.00649232e-45   6.01530599e-31   0.00000000e+00\n",
      "   6.42243112e-41   0.00000000e+00   0.00000000e+00]\n",
      "[  8.01019494e-12   2.12812563e-04   9.99786794e-01   1.55896156e-22\n",
      "   2.74332694e-14   1.71849941e-14   4.43952698e-37   1.46326506e-20\n",
      "   5.83142421e-13   5.30154406e-18   4.79413298e-26   9.72308934e-20\n",
      "   1.51754979e-27   8.77913488e-42   1.76063540e-14   5.98574516e-20\n",
      "   9.77777115e-19   1.12344741e-30   1.99749928e-09   1.59914251e-30\n",
      "   7.18842277e-11   2.95945043e-22   2.19305892e-31   8.54290857e-12\n",
      "   9.99394057e-16   5.18092707e-33   1.89819772e-13   1.03699514e-31\n",
      "   1.57303455e-31   5.65240129e-12   1.20430085e-28   1.67938626e-24\n",
      "   7.55596243e-27   1.88789942e-36   1.09621835e-14   1.26780683e-25\n",
      "   8.58146912e-30   2.29471152e-18   4.00993315e-07   3.87318896e-42\n",
      "   4.01620672e-14   9.67182242e-34   1.02036949e-40]\n",
      "[  1.86658314e-10   3.86079051e-07   3.01850800e-15   2.03681538e-22\n",
      "   9.99999642e-01   7.73034667e-16   5.41848896e-34   9.12890032e-36\n",
      "   9.90546997e-29   0.00000000e+00   1.26329618e-26   0.00000000e+00\n",
      "   0.00000000e+00   0.00000000e+00   7.56028958e-25   1.97679913e-39\n",
      "   1.40129846e-45   1.24554050e-38   1.18869561e-27   0.00000000e+00\n",
      "   2.62463202e-42   2.63528077e-38   1.09355623e-38   1.17709071e-42\n",
      "   5.83817654e-39   8.44973739e-31   0.00000000e+00   0.00000000e+00\n",
      "   2.87670297e-36   6.21428418e-30   0.00000000e+00   2.75334631e-30\n",
      "   0.00000000e+00   9.11430418e-32   2.37839627e-33   2.63696071e-30\n",
      "   1.40129846e-45   2.44634035e-35   1.21233223e-31   2.03800980e-32\n",
      "   4.60238131e-28   0.00000000e+00   0.00000000e+00]\n",
      "[  6.18603372e-06   5.84881306e-01   3.83486154e-19   1.57196371e-08\n",
      "   7.46494528e-33   1.19389099e-11   1.56555385e-20   9.09933778e-24\n",
      "   3.72837780e-19   1.76626665e-20   6.44592814e-16   5.89735027e-05\n",
      "   1.48201221e-14   3.30934052e-26   1.28798898e-23   2.77457096e-43\n",
      "   4.09095822e-15   3.08407018e-32   3.44058788e-21   5.21706680e-12\n",
      "   5.51052075e-08   1.62606426e-07   7.68843609e-25   4.14917022e-01\n",
      "   1.27608156e-14   1.09766477e-16   2.88258545e-33   3.33779322e-17\n",
      "   1.34862377e-04   4.91659258e-14   8.99973713e-07   9.26417276e-11\n",
      "   7.84943964e-26   7.64434471e-30   6.26443385e-12   4.25950613e-24\n",
      "   8.95737753e-24   7.66619440e-21   1.03556459e-07   1.45738015e-30\n",
      "   3.52289618e-07   4.91322565e-22   5.02486454e-31]\n",
      "[  1.21457649e-10   9.99999762e-01   1.06430550e-11   9.22669649e-11\n",
      "   9.27808123e-27   1.79507154e-07   2.23811632e-20   2.26823858e-23\n",
      "   1.43029310e-30   4.38359034e-35   3.35862122e-26   2.08207850e-32\n",
      "   3.02570754e-34   2.65796611e-39   1.36524725e-24   1.47542862e-33\n",
      "   1.93803591e-21   2.47974322e-34   1.34015757e-19   1.70918974e-35\n",
      "   2.67013008e-24   2.28666870e-35   9.41074659e-21   4.24671559e-26\n",
      "   1.23898424e-27   9.42645487e-27   1.47518595e-34   0.00000000e+00\n",
      "   2.16428525e-16   1.00758596e-10   1.77320694e-34   1.20385219e-17\n",
      "   6.80768170e-39   0.00000000e+00   5.71629261e-22   1.12892246e-33\n",
      "   6.61838122e-29   4.79594399e-41   1.67393711e-15   2.38220739e-44\n",
      "   1.56684435e-27   2.86723764e-36   6.86636248e-43]\n",
      "[  0.00000000e+00   1.66123933e-41   1.06075267e-38   0.00000000e+00\n",
      "   0.00000000e+00   0.00000000e+00   0.00000000e+00   3.85560911e-38\n",
      "   2.38220739e-44   2.71402819e-34   1.84971397e-43   6.49764020e-26\n",
      "   1.00000000e+00   4.74626995e-35   0.00000000e+00   0.00000000e+00\n",
      "   0.00000000e+00   0.00000000e+00   0.00000000e+00   0.00000000e+00\n",
      "   0.00000000e+00   9.80908925e-44   0.00000000e+00   4.82036190e-38\n",
      "   0.00000000e+00   0.00000000e+00   1.40129846e-45   0.00000000e+00\n",
      "   0.00000000e+00   0.00000000e+00   2.08793471e-42   0.00000000e+00\n",
      "   0.00000000e+00   5.17397957e-38   0.00000000e+00   9.80908925e-44\n",
      "   0.00000000e+00   0.00000000e+00   0.00000000e+00   0.00000000e+00\n",
      "   1.26756975e-17   0.00000000e+00   1.15808638e-33]\n",
      "\n",
      "TopKV2(values=array([[ 68.78839874,  42.39949036,  23.39820099],\n",
      "       [ 22.77472496,  14.31983948,   8.0456171 ],\n",
      "       [ 48.354496  ,  33.58727264,  25.95275497],\n",
      "       [ 20.12438774,  19.78105736,  11.74947834],\n",
      "       [ 37.64866638,  22.11561584,  14.8172102 ],\n",
      "       [ 89.03434753,  50.12750244,  31.03857422]], dtype=float32), indices=array([[ 1,  0,  2],\n",
      "       [ 2,  1, 38],\n",
      "       [ 4,  1,  0],\n",
      "       [ 1, 23, 28],\n",
      "       [ 1,  5,  0],\n",
      "       [12, 40, 11]]))\n",
      "done\n"
     ]
    }
   ],
   "source": [
    "def softmax(x):\n",
    "    \"\"\"Compute softmax values for each sets of scores in x.\"\"\"\n",
    "    e_x = np.exp(x - np.max(x))\n",
    "    return e_x / e_x.sum()\n",
    "\n",
    "with tf.Session() as sess:\n",
    "    loader = tf.train.import_meta_graph('lenet-9.meta')\n",
    "    loader.restore(sess, tf.train.latest_checkpoint('./'))\n",
    "    result =  sess.run(logits, feed_dict={x: X_myValues})\n",
    "    print(result)\n",
    "    print()\n",
    "    for i in range (6):\n",
    "        print (softmax(result[i]))\n",
    "    print()\n",
    "    print(sess.run(tf.nn.top_k(result, k=3)))    \n",
    "print ('done')"
   ]
  },
  {
   "cell_type": "code",
   "execution_count": null,
   "metadata": {
    "collapsed": true
   },
   "outputs": [],
   "source": []
  },
  {
   "cell_type": "markdown",
   "metadata": {},
   "source": [
    "### Question 6\n",
    "\n",
    "_Choose five candidate images of traffic signs and provide them in the report. Are there any particular qualities of the image(s) that might make classification difficult? It could be helpful to plot the images in the notebook._\n",
    "\n"
   ]
  },
  {
   "cell_type": "markdown",
   "metadata": {},
   "source": [
    "**Answer:**"
   ]
  },
  {
   "cell_type": "markdown",
   "metadata": {},
   "source": [
    "The network detected 4 out of 6 signs correctly. The correctly detected signs are all detected with a probability close to 1. \n",
    "\n",
    "The model detected the 80 signs incorrectly. Instead it detected a 30 km speed limit sign. As 80 and 30 are similar to each other and probably more 30 signs are in the training set. This error can be explained.\n",
    "\n",
    "In addition the normal 80 sing was ranked 2nd (after the 30 sign) whereas teh 80 sign with a km string attached was not under the top 3 suggestions\n",
    "(cf. image below)"
   ]
  },
  {
   "cell_type": "code",
   "execution_count": 44,
   "metadata": {
    "collapsed": false
   },
   "outputs": [
    {
     "name": "stdout",
     "output_type": "stream",
     "text": [
      "eighty: {} 1860\n",
      "thirty: {} 2220\n"
     ]
    },
    {
     "data": {
      "text/plain": [
       "<matplotlib.image.AxesImage at 0x4a824c18>"
      ]
     },
     "execution_count": 44,
     "metadata": {},
     "output_type": "execute_result"
    },
    {
     "data": {
      "image/png": "[encoded data removed]",
      "text/plain": [
       "<matplotlib.figure.Figure at 0x4fd50d30>"
      ]
     },
     "metadata": {},
     "output_type": "display_data"
    }
   ],
   "source": [
    "thirty = 0\n",
    "eighty = 0\n",
    "for i in range(len(train['labels'])):\n",
    "    if (train['labels'][i] == 1):\n",
    "        thirty = thirty + 1\n",
    "    if (train['labels'][i] == 5):\n",
    "        eighty = eighty + 1\n",
    "print ('eighty: {}', eighty)  \n",
    "print ('thirty: {}', thirty)  \n",
    "plt.imshow(readImage('./my_signs/image_3.jpg'), cmap='gray') "
   ]
  },
  {
   "cell_type": "markdown",
   "metadata": {},
   "source": [
    "### Question 7\n",
    "\n",
    "_Is your model able to perform equally well on captured pictures when compared to testing on the dataset? The simplest way to do this check the accuracy of the predictions. For example, if the model predicted 1 out of 5 signs correctly, it's 20% accurate._\n",
    "\n",
    "_**NOTE:** You could check the accuracy manually by using `signnames.csv` (same directory). This file has a mapping from the class id (0-42) to the corresponding sign name. So, you could take the class id the model outputs, lookup the name in `signnames.csv` and see if it matches the sign from the image._\n"
   ]
  },
  {
   "cell_type": "markdown",
   "metadata": {},
   "source": [
    "**Answer:**"
   ]
  },
  {
   "cell_type": "markdown",
   "metadata": {
    "collapsed": true
   },
   "source": [
    "4 out of 6 images were recognized correctly\n",
    "From the two images which were not recognized correctly, one was on 3rd position and one on the 4th position of the ordered prediction list. Strangely enough if I retrain the model with exactly the same paramaters, the resulting model is slightly different. Again I detects 4 out of the 6 images correctly but this time different images. As the only thing wich changed are the initial randomly assigned weights, the whole model seems to be a little two dependent on this random valuse. One possibility to change this would be to set sigma to 0.\n"
   ]
  },
  {
   "cell_type": "markdown",
   "metadata": {},
   "source": [
    "### Question 8\n",
    "\n",
    "*Use the model's softmax probabilities to visualize the **certainty** of its predictions, [`tf.nn.top_k`](https://www.tensorflow.org/versions/r0.12/api_docs/python/nn.html#top_k) could prove helpful here. Which predictions is the model certain of? Uncertain? If the model was incorrect in its initial prediction, does the correct prediction appear in the top k? (k should be 5 at most)*\n",
    "\n",
    "`tf.nn.top_k` will return the values and indices (class ids) of the top k predictions. So if k=3, for each sign, it'll return the 3 largest probabilities (out of a possible 43) and the correspoding class ids.\n",
    "\n",
    "Take this numpy array as an example:\n",
    "\n",
    "```\n",
    "# (5, 6) array\n",
    "a = np.array([[ 0.24879643,  0.07032244,  0.12641572,  0.34763842,  0.07893497,\n",
    "         0.12789202],\n",
    "       [ 0.28086119,  0.27569815,  0.08594638,  0.0178669 ,  0.18063401,\n",
    "         0.15899337],\n",
    "       [ 0.26076848,  0.23664738,  0.08020603,  0.07001922,  0.1134371 ,\n",
    "         0.23892179],\n",
    "       [ 0.11943333,  0.29198961,  0.02605103,  0.26234032,  0.1351348 ,\n",
    "         0.16505091],\n",
    "       [ 0.09561176,  0.34396535,  0.0643941 ,  0.16240774,  0.24206137,\n",
    "         0.09155967]])\n",
    "```\n",
    "\n",
    "Running it through `sess.run(tf.nn.top_k(tf.constant(a), k=3))` produces:\n",
    "\n",
    "```\n",
    "TopKV2(values=array([[ 0.34763842,  0.24879643,  0.12789202],\n",
    "       [ 0.28086119,  0.27569815,  0.18063401],\n",
    "       [ 0.26076848,  0.23892179,  0.23664738],\n",
    "       [ 0.29198961,  0.26234032,  0.16505091],\n",
    "       [ 0.34396535,  0.24206137,  0.16240774]]), indices=array([[3, 0, 5],\n",
    "       [0, 1, 4],\n",
    "       [0, 5, 1],\n",
    "       [1, 3, 5],\n",
    "       [1, 4, 3]], dtype=int32))\n",
    "```\n",
    "\n",
    "Looking just at the first row we get `[ 0.34763842,  0.24879643,  0.12789202]`, you can confirm these are the 3 largest probabilities in `a`. You'll also notice `[3, 0, 5]` are the corresponding indices."
   ]
  },
  {
   "cell_type": "markdown",
   "metadata": {},
   "source": [
    "**Answer:**"
   ]
  },
  {
   "cell_type": "markdown",
   "metadata": {},
   "source": [
    "> **Note**: Once you have completed all of the code implementations and successfully answered each question above, you may finalize your work by exporting the iPython Notebook as an HTML document. You can do this by using the menu above and navigating to  \\n\",\n",
    "    \"**File -> Download as -> HTML (.html)**. Include the finished document along with this notebook as your submission."
   ]
  },
  {
   "cell_type": "code",
   "execution_count": null,
   "metadata": {
    "collapsed": true
   },
   "outputs": [],
   "source": [
    "all information was provided already above."
   ]
  }
 ],
 "metadata": {
  "anaconda-cloud": {},
  "kernelspec": {
   "display_name": "Python [default]",
   "language": "python",
   "name": "python3"
  },
  "language_info": {
   "codemirror_mode": {
    "name": "ipython",
    "version": 3
   },
   "file_extension": ".py",
   "mimetype": "text/x-python",
   "name": "python",
   "nbconvert_exporter": "python",
   "pygments_lexer": "ipython3",
   "version": "3.5.2"
  }
 },
 "nbformat": 4,
 "nbformat_minor": 1
}
