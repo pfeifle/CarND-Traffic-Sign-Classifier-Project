{
 "cells": [
  {
   "cell_type": "markdown",
   "metadata": {},
   "source": [
    "# Self-Driving Car Engineer Nanodegree\n",
    "\n",
    "## Deep Learning\n",
    "\n",
    "## Project: Build a Traffic Sign Recognition Classifier\n",
    "\n",
    "In this notebook, a template is provided for you to implement your functionality in stages which is required to successfully complete this project. If additional code is required that cannot be included in the notebook, be sure that the Python code is successfully imported and included in your submission, if necessary. Sections that begin with **'Implementation'** in the header indicate where you should begin your implementation for your project. Note that some sections of implementation are optional, and will be marked with **'Optional'** in the header.\n",
    "\n",
    "In addition to implementing code, there will be questions that you must answer which relate to the project and your implementation. Each section where you will answer a question is preceded by a **'Question'** header. Carefully read each question and provide thorough answers in the following text boxes that begin with **'Answer:'**. Your project submission will be evaluated based on your answers to each of the questions and the implementation you provide.\n",
    "\n",
    ">**Note:** Code and Markdown cells can be executed using the **Shift + Enter** keyboard shortcut. In addition, Markdown cells can be edited by typically double-clicking the cell to enter edit mode."
   ]
  },
  {
   "cell_type": "markdown",
   "metadata": {},
   "source": [
    "---\n",
    "## Step 0: Load The Data"
   ]
  },
  {
   "cell_type": "code",
   "execution_count": 1,
   "metadata": {
    "collapsed": false
   },
   "outputs": [],
   "source": [
    "# Load pickled data\n",
    "import pickle\n",
    "\n",
    "# TODO: Fill this in based on where you saved the training and testing data\n",
    "\n",
    "training_file = '.\\\\data\\\\train.p'\n",
    "testing_file = '.\\\\data\\\\test.p'\n",
    "\n",
    "with open(training_file, mode='rb') as f:\n",
    "    train = pickle.load(f)\n",
    "with open(testing_file, mode='rb') as f:\n",
    "    test = pickle.load(f)\n",
    "    \n",
    "#mp X_train, y_train = train['features'], train['labels']\n",
    "#mp X_test, y_test = test['features'], test['labels']"
   ]
  },
  {
   "cell_type": "markdown",
   "metadata": {},
   "source": [
    "---\n",
    "\n",
    "## Step 1: Dataset Summary & Exploration\n",
    "\n",
    "The pickled data is a dictionary with 4 key/value pairs:\n",
    "\n",
    "- `'features'` is a 4D array containing raw pixel data of the traffic sign images, (num examples, width, height, channels).\n",
    "- `'labels'` is a 2D array containing the label/class id of the traffic sign. The file `signnames.csv` contains id -> name mappings for each id.\n",
    "- `'sizes'` is a list containing tuples, (width, height) representing the the original width and height the image.\n",
    "- `'coords'` is a list containing tuples, (x1, y1, x2, y2) representing coordinates of a bounding box around the sign in the image. **THESE COORDINATES ASSUME THE ORIGINAL IMAGE. THE PICKLED DATA CONTAINS RESIZED VERSIONS (32 by 32) OF THESE IMAGES**\n",
    "\n",
    "Complete the basic data summary below."
   ]
  },
  {
   "cell_type": "code",
   "execution_count": 2,
   "metadata": {
    "collapsed": false
   },
   "outputs": [
    {
     "name": "stdout",
     "output_type": "stream",
     "text": [
      "Number of training examples = 39209\n",
      "Number of testing examples = 12630\n",
      "Image data shape (train object sizes 0) = [29 30]\n",
      "Image data shape (train object features 0) = (32, 32, 3)\n",
      "[ 0  1  2  3  4  5  6  7  8  9 10 11 12 13 14 15 16 17 18 19 20 21 22 23 24\n",
      " 25 26 27 28 29 30 31 32 33 34 35 36 37 38 39 40 41 42]\n",
      "Number of training classes = 43\n",
      "[ 0  1  2  3  4  5  6  7  8  9 10 11 12 13 14 15 16 17 18 19 20 21 22 23 24\n",
      " 25 26 27 28 29 30 31 32 33 34 35 36 37 38 39 40 41 42]\n",
      "Number of testing classes = 43\n"
     ]
    }
   ],
   "source": [
    "### Replace each question mark with the appropriate value.\n",
    "import numpy as np\n",
    "\n",
    "\n",
    "# TODO: Number of training examples\n",
    "n_train = len(train['features']) #ok\n",
    "# TODO: Number of testing examples.\n",
    "n_test = len(test['features']) #ok\n",
    "\n",
    "# TODO: What's the shape of an traffic sign image?\n",
    "image_shape_train = train['sizes'][0] # unclear what to do here in detail. The shape of the first image is returned\n",
    "image_shape_train_features = train['features'][0].shape # unclear what to do here in detail. The shape of the first image is returned\n",
    "\n",
    "# TODO: How many unique classes/labels there are in the dataset.\n",
    "n_classes_train = len(np.unique(train['labels'])) #ok\n",
    "n_classes_test = len(np.unique(test['labels'])) #ok\n",
    "\n",
    "print(\"Number of training examples =\", n_train)\n",
    "print(\"Number of testing examples =\", n_test)\n",
    "print(\"Image data shape (train object sizes 0) =\", image_shape_train)\n",
    "print(\"Image data shape (train object features 0) =\", image_shape_train_features)\n",
    "print(np.unique(train['labels']))\n",
    "print(\"Number of training classes =\", n_classes_train)\n",
    "print(np.unique(test['labels']))\n",
    "print(\"Number of testing classes =\", n_classes_test)\n"
   ]
  },
  {
   "cell_type": "markdown",
   "metadata": {},
   "source": [
    "Visualize the German Traffic Signs Dataset using the pickled file(s). This is open ended, suggestions include: plotting traffic sign images, plotting the count of each sign, etc.\n",
    "\n",
    "The [Matplotlib](http://matplotlib.org/) [examples](http://matplotlib.org/examples/index.html) and [gallery](http://matplotlib.org/gallery.html) pages are a great resource for doing visualizations in Python.\n",
    "\n",
    "**NOTE:** It's recommended you start with something simple first. If you wish to do more, come back to it after you've completed the rest of the sections."
   ]
  },
  {
   "cell_type": "code",
   "execution_count": 5,
   "metadata": {
    "collapsed": false,
    "scrolled": true
   },
   "outputs": [
    {
     "name": "stdout",
     "output_type": "stream",
     "text": [
      "7\n",
      "(32, 32, 3)\n"
     ]
    },
    {
     "data": {
      "image/png": "[encoded data removed]",
      "text/plain": [
       "<matplotlib.figure.Figure at 0x81a1080>"
      ]
     },
     "metadata": {},
     "output_type": "display_data"
    }
   ],
   "source": [
    "import random\n",
    "import numpy as np\n",
    "import matplotlib.pyplot as plt\n",
    "%matplotlib inline\n",
    "\n",
    "index = random.randint(0, len(test['features']))\n",
    "image = test['features'][index]\n",
    "\n",
    "plt.figure(figsize=(1,1))\n",
    "#plt.imshow(image, cmap=\"gray\")\n",
    "plt.imshow(image)\n",
    "print(test['labels'][index])\n",
    "print(image.shape)"
   ]
  },
  {
   "cell_type": "markdown",
   "metadata": {},
   "source": [
    "The following code block contains some \"playing code\" to understand the input data better. The project does not need this code block."
   ]
  },
  {
   "cell_type": "code",
   "execution_count": 6,
   "metadata": {
    "collapsed": false,
    "scrolled": true
   },
   "outputs": [
    {
     "name": "stdout",
     "output_type": "stream",
     "text": [
      "25\n",
      "<class 'numpy.uint8'>\n",
      "[27 27]\n",
      "[ 5  5 22 22]\n",
      "x-extension:  0.744186\n",
      "y-extension:  0.767442\n",
      "12630\n",
      "12630\n",
      "39209\n",
      "39209\n",
      "[43 43]\n",
      "(32, 32, 3)\n"
     ]
    }
   ],
   "source": [
    "### some test functions to understand the input data better\n",
    "\n",
    "i=50\n",
    "print(test['labels'][i])\n",
    "print(type(test['labels'][i]))\n",
    "print(test['sizes'][i])\n",
    "print(test['coords'][i])\n",
    "print(\"x-extension: \", (train['coords'][i][2]-train['coords'][i][0]) / train['sizes'][i][0])\n",
    "print(\"y-extension: \", (train['coords'][i][3]-train['coords'][i][1]) / train['sizes'][i][1])\n",
    "\n",
    "print(len(test['sizes']))\n",
    "print(len(test['features']))\n",
    "print(len(train['sizes']))\n",
    "print(len(train['features']))\n",
    "print(train['sizes'][i])\n",
    "print(test['features'][3].shape)\n",
    "\n",
    "      \n"
   ]
  },
  {
   "cell_type": "markdown",
   "metadata": {},
   "source": [
    "----\n",
    "\n",
    "## Step 2: Design and Test a Model Architecture\n",
    "\n",
    "Design and implement a deep learning model that learns to recognize traffic signs. Train and test your model on the [German Traffic Sign Dataset](http://benchmark.ini.rub.de/?section=gtsrb&subsection=dataset).\n",
    "\n",
    "There are various aspects to consider when thinking about this problem:\n",
    "\n",
    "- Neural network architecture\n",
    "- Play around preprocessing techniques (normalization, rgb to grayscale, etc)\n",
    "- Number of examples per label (some have more than others).\n",
    "- Generate fake data.\n",
    "\n",
    "Here is an example of a [published baseline model on this problem](http://yann.lecun.com/exdb/publis/pdf/sermanet-ijcnn-11.pdf). It's not required to be familiar with the approach used in the paper but, it's good practice to try to read papers like these.\n",
    "\n",
    "**NOTE:** The LeNet-5 implementation shown in the [classroom](https://classroom.udacity.com/nanodegrees/nd013/parts/fbf77062-5703-404e-b60c-95b78b2f3f9e/modules/6df7ae49-c61c-4bb2-a23e-6527e69209ec/lessons/601ae704-1035-4287-8b11-e2c2716217ad/concepts/d4aca031-508f-4e0b-b493-e7b706120f81) at the end of the CNN lesson is a solid starting point. You'll have to change the number of classes and possibly the preprocessing, but aside from that it's plug and play!"
   ]
  },
  {
   "cell_type": "markdown",
   "metadata": {},
   "source": [
    "### Implementation\n",
    "\n",
    "Use the code cell (or multiple code cells, if necessary) to implement the first step of your project. Once you have completed your implementation and are satisfied with the results, be sure to thoroughly answer the questions that follow."
   ]
  },
  {
   "cell_type": "code",
   "execution_count": 7,
   "metadata": {
    "collapsed": false,
    "scrolled": true
   },
   "outputs": [
    {
     "name": "stdout",
     "output_type": "stream",
     "text": [
      "38\n"
     ]
    },
    {
     "data": {
      "image/png": "[encoded data removed]",
      "text/plain": [
       "<matplotlib.figure.Figure at 0x83e0a90>"
      ]
     },
     "metadata": {},
     "output_type": "display_data"
    }
   ],
   "source": [
    "# In this code block the training images will be transformed into \n",
    "# gray-scale images. Each image can later on be represented as a 32x32 \n",
    "# feature vector\n",
    "# Input: train['features']\n",
    "# Output: gray_train_features\n",
    "# Author: Martin Pfeifle\n",
    "\n",
    "import random\n",
    "import matplotlib.pyplot as plt\n",
    "import matplotlib.image as mpimg\n",
    "import numpy as np\n",
    "import cv2\n",
    "%matplotlib inline\n",
    "\n",
    "def grayscale(img): # copy from lane detection program\n",
    "    return cv2.cvtColor(img, cv2.COLOR_BGR2GRAY)\n",
    "\n",
    "gray_train_features  = np.zeros((len(train['features']),32,32))\n",
    "for i in range(len(train['features'])):\n",
    "    gray_train_features[i] = grayscale (train['features'][i])\n",
    "\n",
    "#Test - Depict one gray training image\n",
    "index = random.randint(0, len(gray_train_features))\n",
    "image = gray_train_features[index]\n",
    "\n",
    "plt.figure(figsize=(1,1))\n",
    "plt.imshow(image, cmap=\"gray\")\n",
    "print(train['labels'][index])"
   ]
  },
  {
   "cell_type": "code",
   "execution_count": 8,
   "metadata": {
    "collapsed": false,
    "scrolled": false
   },
   "outputs": [
    {
     "name": "stdout",
     "output_type": "stream",
     "text": [
      "14\n"
     ]
    },
    {
     "data": {
      "image/png": "[encoded data removed]",
      "text/plain": [
       "<matplotlib.figure.Figure at 0x90e40b8>"
      ]
     },
     "metadata": {},
     "output_type": "display_data"
    }
   ],
   "source": [
    "# In this code block the testing images will be transformed into \n",
    "# gray-scale images of size 32x32. Each image can later on be represented as a 32x32 \n",
    "# feature vector. Both normalization and grayscale is done for the test images\n",
    "# in this function.\n",
    "# Input: test['features']\n",
    "# Output: gray_test_features\n",
    "# Author: Martin Pfeifle\n",
    "\n",
    "import random\n",
    "import matplotlib.pyplot as plt\n",
    "import matplotlib.image as mpimg\n",
    "import numpy as np\n",
    "import cv2\n",
    "%matplotlib inline\n",
    "\n",
    "def grayscale(img): # copy from lane detection program\n",
    "    return cv2.cvtColor(img, cv2.COLOR_BGR2GRAY)\n",
    "\n",
    "gray_test_features  = np.zeros((len(test['features']),32,32))\n",
    "for i in range(len(test['features'])):\n",
    "    gray_test_features[i] = grayscale (test['features'][i])\n",
    "\n",
    "#Test - Depict one gray test image\n",
    "index = random.randint(0, len(gray_test_features))\n",
    "image = gray_test_features[index]\n",
    "\n",
    "plt.figure(figsize=(1,1))\n",
    "plt.imshow(image, cmap=\"gray\")\n",
    "print(test['labels'][index])"
   ]
  },
  {
   "cell_type": "markdown",
   "metadata": {},
   "source": [
    "The following code block creates\n",
    "* X_train\n",
    "* y_train\n",
    "* X_Validation\n",
    "* y_valdiation\n",
    "* X_test\n",
    "* y_test\n",
    "\n",
    "The idea is that X_train and X_Validation contain data in a 2-dimensional matrix (number of train images, 1024). So each image is represented as a 1024 dimensional feature vector. y_train and y_validation contain the corresponding class values.\n",
    "\n",
    "X_test and y_test have the same format as the training and validation data. These test data are not used during training. "
   ]
  },
  {
   "cell_type": "code",
   "execution_count": 9,
   "metadata": {
    "collapsed": false
   },
   "outputs": [],
   "source": [
    "from sklearn.utils import shuffle\n",
    "\n",
    "X_train = np.empty([len(gray_train_features),1024])\n",
    "for i in range(len(X_train)):\n",
    "    X_train[i]=np.reshape(gray_train_features[i],1024)\n",
    "y_train = train['labels']\n",
    "\n",
    "X_validation, y_validation = X_train, y_train\n",
    "\n",
    "X_test = np.empty([len(gray_test_features),1024])\n",
    "for i in range(len(X_test)):\n",
    "    X_test[i]=np.reshape(gray_test_features[i],1024)\n",
    "y_test = test['labels']\n",
    "\n",
    "X_train, y_train = shuffle(X_train, y_train)"
   ]
  },
  {
   "cell_type": "code",
   "execution_count": 10,
   "metadata": {
    "collapsed": true
   },
   "outputs": [],
   "source": [
    "import tensorflow as tf\n",
    "\n",
    "EPOCHS = 10\n",
    "BATCH_SIZE = 50"
   ]
  },
  {
   "cell_type": "markdown",
   "metadata": {},
   "source": [
    "The parameter *x* for LeNet is a 1024-dimensional feature vector which is first transformed into a 32x32 image  "
   ]
  },
  {
   "cell_type": "code",
   "execution_count": 11,
   "metadata": {
    "collapsed": true
   },
   "outputs": [],
   "source": [
    "from tensorflow.contrib.layers import flatten\n",
    "\n",
    "def LeNet(x):\n",
    "    # Reshape from 2D to 4D. This prepares the data for\n",
    "    # convolutional and pooling layers.\n",
    "    x = tf.reshape(x, (-1, 32, 32, 1))\n",
    "    # Pad 0s to 32x32. Centers the digit further.\n",
    "    # Add 2 rows/columns on each side for height and width dimensions.\n",
    "    # mp: was commented out. strangely enough it was working with padding although the  input is already 32x32 \n",
    "    # x = tf.pad(x, [[0, 0], [2, 2], [2, 2], [0, 0]], mode=\"CONSTANT\")\n",
    "    \n",
    "    # Hyperparameters\n",
    "    mu = 0\n",
    "    sigma = 0.1\n",
    "    \n",
    "    # SOLUTION: Convolution Layer 1. Input = 32x32x1. Output = 28x28x6.\n",
    "    conv1_W = tf.Variable(tf.truncated_normal(shape=(5, 5, 1, 6), mean = mu, stddev = sigma))\n",
    "    conv1_b = tf.Variable(tf.zeros(6))\n",
    "    conv1   = tf.nn.conv2d(x, conv1_W, strides=[1, 1, 1, 1], padding='VALID') + conv1_b\n",
    "\n",
    "    # SOLUTION: Activation 1.\n",
    "    conv1 = tf.nn.relu(conv1)\n",
    "\n",
    "    # SOLUTION: Pooling Layer 1. Input = 28x28x6. Output = 14x14x6.\n",
    "    conv1 = tf.nn.max_pool(conv1, ksize=[1, 2, 2, 1], strides=[1, 2, 2, 1], padding='VALID')\n",
    "\n",
    "    # SOLUTION: Convolution Layer 2. Output = 10x10x16.\n",
    "    conv2_W = tf.Variable(tf.truncated_normal(shape=(5, 5, 6, 16), mean = mu, stddev = sigma))\n",
    "    conv2_b = tf.Variable(tf.zeros(16))\n",
    "    conv2   = tf.nn.conv2d(conv1, conv2_W, strides=[1, 1, 1, 1], padding='VALID') + conv2_b\n",
    "    \n",
    "    # SOLUTION: Activation 2.\n",
    "    conv2 = tf.nn.relu(conv2)\n",
    "\n",
    "    # SOLUTION: Pooling Layer 2. Input = 10x10x16. Output = 5x5x16.\n",
    "    conv2 = tf.nn.max_pool(conv2, ksize=[1, 2, 2, 1], strides=[1, 2, 2, 1], padding='VALID')\n",
    "\n",
    "    # SOLUTION: Flatten Layer.\n",
    "    fc1 = flatten(conv2)\n",
    "    fc1_shape = (fc1.get_shape().as_list()[-1], 120)\n",
    "    \n",
    "    # SOLUTION: Fully Connected Layer 1. Input = 5x5x16. Output = 120.\n",
    "    fc1_W     = tf.Variable(tf.truncated_normal(shape=(fc1_shape), mean = mu, stddev = sigma))\n",
    "    fc1_b     = tf.Variable(tf.zeros(120))\n",
    "    fc1       = tf.matmul(fc1, fc1_W) + fc1_b\n",
    "    \n",
    "    # SOLUTION: Activation 3.\n",
    "    fc1 = tf.nn.relu(fc1)\n",
    "\n",
    "    # SOLUTION: Fully Connected Layer 2. Input = 120. Output = 43.\n",
    "    fc2_W  = tf.Variable(tf.truncated_normal(shape=(120, 43), mean = mu, stddev = sigma))\n",
    "    fc2_b  = tf.Variable(tf.zeros(43))\n",
    "    logits = tf.matmul(fc1, fc2_W) + fc2_b\n",
    "    return logits"
   ]
  },
  {
   "cell_type": "code",
   "execution_count": 12,
   "metadata": {
    "collapsed": true
   },
   "outputs": [],
   "source": [
    "def evaluate(X_data, y_data):\n",
    "    num_examples = len(X_data)\n",
    "    total_accuracy, total_loss = 0, 0\n",
    "    sess = tf.get_default_session()\n",
    "    for offset in range(0, num_examples, BATCH_SIZE):\n",
    "        batch_x, batch_y = X_data[offset:offset+BATCH_SIZE], y_data[offset:offset+BATCH_SIZE]\n",
    "        loss, accuracy =  sess.run([loss_operation, accuracy_operation], feed_dict={x: batch_x, y: batch_y})\n",
    "        total_accuracy += (accuracy * batch_x.shape[0])\n",
    "        total_loss     += (loss * batch_x.shape[0])\n",
    "    return total_loss / num_examples, total_accuracy / num_examples"
   ]
  },
  {
   "cell_type": "code",
   "execution_count": 13,
   "metadata": {
    "collapsed": false
   },
   "outputs": [],
   "source": [
    "x = tf.placeholder(tf.float32, (None, 1024))\n",
    "y = tf.placeholder(tf.int32, (None))\n",
    "one_hot_y = tf.one_hot(y, 43)"
   ]
  },
  {
   "cell_type": "code",
   "execution_count": 14,
   "metadata": {
    "collapsed": true
   },
   "outputs": [],
   "source": [
    "logits = LeNet(x)\n",
    "loss_operation = tf.reduce_mean(tf.nn.softmax_cross_entropy_with_logits(logits, one_hot_y))\n",
    "optimizer = tf.train.AdamOptimizer()\n",
    "training_operation = optimizer.minimize(loss_operation)\n",
    "correct_prediction = tf.equal(tf.argmax(logits, 1), tf.argmax(one_hot_y, 1))\n",
    "accuracy_operation = tf.reduce_mean(tf.cast(correct_prediction, tf.float32))"
   ]
  },
  {
   "cell_type": "code",
   "execution_count": 31,
   "metadata": {
    "collapsed": false,
    "scrolled": false
   },
   "outputs": [
    {
     "name": "stdout",
     "output_type": "stream",
     "text": [
      "Training...\n",
      "\n",
      "EPOCH 1 ...\n",
      "Validation Loss     = 0.460\n",
      "Validation Accuracy = 0.876\n",
      "Model saved  0\n",
      "\n",
      "EPOCH 2 ...\n",
      "Validation Loss     = 0.215\n",
      "Validation Accuracy = 0.947\n",
      "Model saved  1\n",
      "\n",
      "EPOCH 3 ...\n",
      "Validation Loss     = 0.152\n",
      "Validation Accuracy = 0.965\n",
      "Model saved  2\n",
      "\n",
      "EPOCH 4 ...\n",
      "Validation Loss     = 0.134\n",
      "Validation Accuracy = 0.966\n",
      "Model saved  3\n",
      "\n",
      "EPOCH 5 ...\n",
      "Validation Loss     = 0.088\n",
      "Validation Accuracy = 0.977\n",
      "Model saved  4\n",
      "\n",
      "EPOCH 6 ...\n",
      "Validation Loss     = 0.120\n",
      "Validation Accuracy = 0.970\n",
      "Model saved  5\n",
      "\n",
      "EPOCH 7 ...\n",
      "Validation Loss     = 0.151\n",
      "Validation Accuracy = 0.960\n",
      "Model saved  6\n",
      "\n",
      "EPOCH 8 ...\n",
      "Validation Loss     = 0.078\n",
      "Validation Accuracy = 0.977\n",
      "Model saved  7\n",
      "\n",
      "EPOCH 9 ...\n",
      "Validation Loss     = 0.038\n",
      "Validation Accuracy = 0.990\n",
      "Model saved  8\n",
      "\n",
      "EPOCH 10 ...\n",
      "Validation Loss     = 0.055\n",
      "Validation Accuracy = 0.988\n",
      "Model saved  9\n",
      "\n"
     ]
    }
   ],
   "source": [
    "import numpy as np\n",
    "\n",
    "with tf.Session() as sess:\n",
    "    sess.run(tf.global_variables_initializer())\n",
    "    num_examples = len(X_train)    \n",
    "    try:\n",
    "        saver\n",
    "    except NameError:\n",
    "        saver = tf.train.Saver()\n",
    "    # Important so that in each Epoch run examples from all traffic sign classes are used    \n",
    "    X_train, y_train = shuffle(X_train, y_train)\n",
    "    print(\"Training...\")\n",
    "    print()\n",
    "    for i in range (EPOCHS):\n",
    "        X_validation_epoch_run = X_train[int(i*0.1*num_examples): int((i+1)*0.1*num_examples)]\n",
    "        y_validation_epoch_run = y_train[int(i*0.1*num_examples): int((i+1)*0.1*num_examples)]\n",
    "        \n",
    "        X_train_epoch_run_1 = X_train[0: int(i*0.1*num_examples)]\n",
    "        X_train_epoch_run_2 = X_train[int((i+1)*0.1*num_examples)+1:num_examples] \n",
    "        X_train_epoch_run = np.concatenate ((X_train_epoch_run_1,X_train_epoch_run_2))\n",
    "        \n",
    "        y_train_epoch_run_1 = y_train[0: int(i*0.1*num_examples)]\n",
    "        y_train_epoch_run_2 = y_train[int((i+1)*0.1*num_examples)+1:num_examples] \n",
    "        y_train_epoch_run = np.concatenate ((y_train_epoch_run_1,y_train_epoch_run_2))\n",
    "        \n",
    "        X_train_epoch_run, y_train_epoch_run = shuffle(X_train_epoch_run, y_train_epoch_run)\n",
    "        for offset in range(0, len(X_train_epoch_run), BATCH_SIZE):\n",
    "            end = offset + BATCH_SIZE\n",
    "            batch_x, batch_y = X_train_epoch_run[offset:end], y_train_epoch_run[offset:end]\n",
    "            loss = sess.run(training_operation, feed_dict={x: batch_x, y: batch_y})\n",
    "            \n",
    "        validation_loss, validation_accuracy = evaluate(X_validation_epoch_run, y_validation_epoch_run)\n",
    "        print(\"EPOCH {} ...\".format(i+1))\n",
    "        print(\"Validation Loss     = {:.3f}\".format(validation_loss))\n",
    "        print(\"Validation Accuracy = {:.3f}\".format(validation_accuracy))\n",
    "        saver.save(sess, '.\\lenet',global_step=i)\n",
    "        print(\"Model saved \", i)\n",
    "        print()"
   ]
  },
  {
   "cell_type": "code",
   "execution_count": 32,
   "metadata": {
    "collapsed": false
   },
   "outputs": [
    {
     "name": "stdout",
     "output_type": "stream",
     "text": [
      "Test Loss     = 0.822\n",
      "Test Accuracy = 0.911\n"
     ]
    }
   ],
   "source": [
    "with tf.Session() as sess:\n",
    "    loader = tf.train.import_meta_graph('lenet-9.meta')\n",
    "    loader.restore(sess, tf.train.latest_checkpoint('./'))\n",
    "    test_loss, test_accuracy = evaluate(X_test, y_test)\n",
    "    print(\"Test Loss     = {:.3f}\".format(test_loss))\n",
    "    print(\"Test Accuracy = {:.3f}\".format(test_accuracy))\n"
   ]
  },
  {
   "cell_type": "markdown",
   "metadata": {
    "collapsed": true
   },
   "source": [
    "### Question 1 \n",
    "\n",
    "_Describe how you preprocessed the data. Why did you choose that technique?_"
   ]
  },
  {
   "cell_type": "markdown",
   "metadata": {},
   "source": [
    "**Answer:**"
   ]
  },
  {
   "cell_type": "markdown",
   "metadata": {
    "collapsed": true
   },
   "source": [
    "* The coloured training and testing traffic sign immages were transformed into gray images by using OpenCV cv2.cvtColor(img, cv2.COLOR_BGR2GRAY), i.e. an image is transformed from (32x32x3) to (32x32x1)\n",
    "* Botht the training and testing data were transformed into a one dimensional feature vector, i.e. a transformation from (32x32x1) to (1240x1)\n",
    "* Based on this techique the LeNet code from LeNet-Lab could be used by only  a simple change, i.e. removal of the first padding step."
   ]
  },
  {
   "cell_type": "markdown",
   "metadata": {},
   "source": [
    "### Question 2\n",
    "\n",
    "_Describe how you set up the training, validation and testing data for your model. **Optional**: If you generated additional data, how did you generate the data? Why did you generate the data? What are the differences in the new dataset (with generated data) from the original dataset?_"
   ]
  },
  {
   "cell_type": "markdown",
   "metadata": {},
   "source": [
    "**Answer:**"
   ]
  },
  {
   "cell_type": "markdown",
   "metadata": {
    "collapsed": true
   },
   "source": [
    "* The input data were already divided into training and test data\n",
    "* The given ratio between test/(test+training) was 12630 / (12630+39209) which fits quite well to the 20%-rule of thumb mentioned in the course.\n",
    "* The concept of cross-validation was applied for the training set. In each of the 10-runs, 10% of the training data were used for validation and 90% for the training. In the first epoch, the validation set contained the first 10% of the training data, in the 2nd epoch it contained training data from 10-20%, etc.\n",
    "* Epochs was set to 10 as there seems no big accuracy improvement any more after Epoch 6. The Epochs value could be reduced."
   ]
  },
  {
   "cell_type": "markdown",
   "metadata": {},
   "source": [
    "### Question 3\n",
    "\n",
    "_What does your final architecture look like? (Type of model, layers, sizes, connectivity, etc.)  For reference on how to build a deep neural network using TensorFlow, see [Deep Neural Network in TensorFlow\n",
    "](https://classroom.udacity.com/nanodegrees/nd013/parts/fbf77062-5703-404e-b60c-95b78b2f3f9e/modules/6df7ae49-c61c-4bb2-a23e-6527e69209ec/lessons/b516a270-8600-4f93-a0a3-20dfeabe5da6/concepts/83a3a2a2-a9bd-4b7b-95b0-eb924ab14432) from the classroom._\n"
   ]
  },
  {
   "cell_type": "markdown",
   "metadata": {},
   "source": [
    "**Answer:**"
   ]
  },
  {
   "cell_type": "markdown",
   "metadata": {
    "collapsed": true
   },
   "source": [
    "The model was exactly the same one as used in the LetNet-Lab except that the first padding step which enlarged the images from 28x28 to 32x32 was skipped as the traffic signs were already of size 32x32. So the following steps were carried out:\n",
    "* Convolution Layer with Input = 32x32x1 and Output = 28x28x6.\n",
    "* Activation with relu\n",
    "* Pooling Layer with Input = 28x28x6 and Output = 14x14x6.\n",
    "* Convolution Layer with Output = 10x10x16\n",
    "* Activation with relu \n",
    "* Pooling Layer with Input = 10x10x16 and Output = 5x5x16.\n",
    "* Flatten Layer from 5x5x16 to 400x1 \n",
    "* Fully Connected Layer with Input =400 and Output = 120.\n",
    "* Activation with relu\n",
    "* Fully Connected Layer with Input = 120 and Output = 43"
   ]
  },
  {
   "cell_type": "markdown",
   "metadata": {},
   "source": [
    "### Question 4\n",
    "\n",
    "_How did you train your model? (Type of optimizer, batch size, epochs, hyperparameters, etc.)_\n"
   ]
  },
  {
   "cell_type": "markdown",
   "metadata": {},
   "source": [
    "**Answer:**"
   ]
  },
  {
   "cell_type": "markdown",
   "metadata": {
    "collapsed": true
   },
   "source": [
    "The parameters were the same as in LetNet-Lab project:\n",
    "* Epoch: 10\n",
    "* Batch Size: 50\n",
    "* distribution parameters for initial weights:  mu = 0 and sigma = 0.1\n",
    "* intial bias values were set to 0"
   ]
  },
  {
   "cell_type": "markdown",
   "metadata": {},
   "source": [
    "### Question 5\n",
    "\n",
    "\n",
    "_What approach did you take in coming up with a solution to this problem? It may have been a process of trial and error, in which case, outline the steps you took to get to the final solution and why you chose those steps. Perhaps your solution involved an already well known implementation or architecture. In this case, discuss why you think this is suitable for the current problem._"
   ]
  },
  {
   "cell_type": "markdown",
   "metadata": {},
   "source": [
    "**Answer:**"
   ]
  },
  {
   "cell_type": "markdown",
   "metadata": {
    "collapsed": true
   },
   "source": [
    "The taken approach was to use the already existing LeNet-5 architecture model which is working well for the MNIST data set. As traffic sign classification basically depend on the recognition of shapes and numbers inside the signs, the images were first transformed into gray scale images which allows to handle them in the same way as the MNIST data. \n",
    "\n",
    "The parameters used in this project were the same as in LetNet-Lab project:\n",
    "* Epoch: 10\n",
    "* Batch Size: 50\n",
    "* distribution parameters for initial weights:  mu = 0 and sigma = 0.1\n",
    "* intial bias values were set to 0"
   ]
  },
  {
   "cell_type": "markdown",
   "metadata": {},
   "source": [
    "---\n",
    "\n",
    "## Step 3: Test a Model on New Images\n",
    "\n",
    "Take several pictures of traffic signs that you find on the web or around you (at least five), and run them through your classifier on your computer to produce example results. The classifier might not recognize some local signs but it could prove interesting nonetheless.\n",
    "\n",
    "You may find `signnames.csv` useful as it contains mappings from the class id (integer) to the actual sign name."
   ]
  },
  {
   "cell_type": "markdown",
   "metadata": {},
   "source": [
    "### Implementation\n",
    "\n",
    "Use the code cell (or multiple code cells, if necessary) to implement the first step of your project. Once you have completed your implementation and are satisfied with the results, be sure to thoroughly answer the questions that follow."
   ]
  },
  {
   "cell_type": "code",
   "execution_count": 17,
   "metadata": {
    "collapsed": true
   },
   "outputs": [],
   "source": [
    "### Load the images and plot them here.\n",
    "### Feel free to use as many code cells as needed."
   ]
  },
  {
   "cell_type": "code",
   "execution_count": 33,
   "metadata": {
    "collapsed": false
   },
   "outputs": [],
   "source": [
    "#importing some useful packages\n",
    "import matplotlib.pyplot as plt\n",
    "import matplotlib.image as mpimg\n",
    "import numpy as np\n",
    "import cv2\n",
    "from PIL import Image\n",
    "%matplotlib inline"
   ]
  },
  {
   "cell_type": "code",
   "execution_count": 34,
   "metadata": {
    "collapsed": false
   },
   "outputs": [],
   "source": [
    "#reading in an image\n",
    "\n",
    "def grayscale(img): # copy from lane detection program\n",
    "    return cv2.cvtColor(img, cv2.COLOR_BGR2GRAY)\n",
    "    \n",
    "def readImage(str):\n",
    "    img=Image.open(str)\n",
    "    image=np.array(img.resize((32, 32)))\n",
    "    #print(image.shape)\n",
    "    image=grayscale(image)\n",
    "    #print(image.shape)\n",
    "    #print (image[0])\n",
    "    return image\n",
    "    #print(image.shape)\n",
    "    #plt.imshow(image,cmap='gray')\n",
    "\n",
    "def readFeatureVector(str):\n",
    "    image=readImage(str)\n",
    "    return np.reshape(image,1024)"
   ]
  },
  {
   "cell_type": "code",
   "execution_count": 35,
   "metadata": {
    "collapsed": false
   },
   "outputs": [],
   "source": [
    "# initialising the X_myValues and y_myValues structure. \n",
    "# X_myValues contain own traffic signs\n",
    "# y_myValues contain the corresponding traffic sign class information\n",
    "\n",
    "X_myValues = np.zeros((6,1024), dtype=np.float64)\n",
    "y_myValues = np.ones((6), dtype=np.uint8)\n",
    "y_myValues[0]=1\n",
    "y_myValues[1]=2\n",
    "y_myValues[2]=4\n",
    "y_myValues[3]=5\n",
    "y_myValues[4]=5\n",
    "y_myValues[5]=12\n",
    "for i in range(6):\n",
    "    X_myValues[i]=np.reshape(readFeatureVector('./my_signs/image_{}.jpg'.format(i)),1024)"
   ]
  },
  {
   "cell_type": "code",
   "execution_count": 36,
   "metadata": {
    "collapsed": false
   },
   "outputs": [
    {
     "name": "stdout",
     "output_type": "stream",
     "text": [
      "Test Loss     = 6.602\n",
      "Test Accuracy = 0.500\n"
     ]
    }
   ],
   "source": [
    "with tf.Session() as sess:\n",
    "    loader = tf.train.import_meta_graph('lenet-9.meta')\n",
    "    loader.restore(sess, tf.train.latest_checkpoint('./'))\n",
    "    test_loss, test_accuracy = evaluate(X_myValues, y_myValues)\n",
    "    print(\"Test Loss     = {:.3f}\".format(test_loss))\n",
    "    print(\"Test Accuracy = {:.3f}\".format(test_accuracy))"
   ]
  },
  {
   "cell_type": "code",
   "execution_count": 37,
   "metadata": {
    "collapsed": false,
    "scrolled": true
   },
   "outputs": [
    {
     "name": "stdout",
     "output_type": "stream",
     "text": [
      "[[ -1.24178610e+01   6.33209877e+01  -2.07917347e+01  -3.63661156e+01\n",
      "   -1.12878628e+01   4.83860111e+00  -6.00744677e+00  -3.68789291e+01\n",
      "   -5.34041557e+01  -6.41721420e+01  -6.60774765e+01  -2.40326405e+01\n",
      "   -5.59031944e+01  -6.70613480e+01  -5.22431135e+00  -8.02016678e+01\n",
      "   -3.85466843e+01  -7.84997787e+01  -5.22529945e+01  -9.31870193e+01\n",
      "   -7.05124359e+01  -2.96707134e+01  -1.01518539e+02  -6.19605522e+01\n",
      "   -9.36485214e+01  -7.14719925e+01  -6.06659851e+01  -7.80925446e+01\n",
      "   -3.11316719e+01  -4.44823074e+01  -6.18361511e+01  -3.77601662e+01\n",
      "   -5.02837410e+01  -7.20320587e+01  -8.78677444e+01  -4.86011009e+01\n",
      "   -7.54650726e+01  -5.82261086e+01  -3.40980453e+01  -3.93261566e+01\n",
      "   -3.09750233e+01  -7.38188629e+01  -7.21383896e+01]\n",
      " [ -1.08160210e+00   1.88094597e+01   6.61503983e+00  -4.20766525e+01\n",
      "    6.37413883e+00   3.32592249e+00  -5.06124115e+01  -9.36838818e+00\n",
      "   -2.20785809e+01  -1.20761366e+01  -4.02682228e+01  -5.27104340e+01\n",
      "   -6.37469292e+01  -3.24300652e+01  -2.26614456e+01  -1.85807359e+00\n",
      "   -2.28292732e+01  -1.74982719e+01  -8.39097290e+01  -2.39673977e+01\n",
      "   -5.77653008e+01  -3.35736351e+01  -7.48582535e+01  -5.13354874e+01\n",
      "   -7.60631714e+01  -7.42924652e+01  -2.18003597e+01  -7.92951965e+01\n",
      "   -4.42088356e+01  -4.50305138e+01  -6.76352005e+01  -4.37660561e+01\n",
      "   -9.06817093e+01  -7.17418442e+01  -5.81842079e+01  -3.49277611e+01\n",
      "   -6.39257545e+01  -3.26425095e+01  -3.56221352e+01   1.40277414e+01\n",
      "   -2.31360760e+01  -9.24605713e+01  -1.01199471e+02]\n",
      " [ -1.76952183e+00   4.52470284e+01   3.51310849e+00  -2.53738346e+01\n",
      "    3.95561142e+01   5.71135283e+00  -2.91198540e+01  -3.83886032e+01\n",
      "   -4.57539902e+01  -5.79812965e+01  -7.55033798e+01  -2.57504005e+01\n",
      "   -6.94388885e+01  -5.02847366e+01   2.48126894e-01  -3.28089752e+01\n",
      "   -4.98323212e+01  -6.68605881e+01  -4.19506187e+01  -8.94204254e+01\n",
      "   -6.85542679e+01  -3.25453987e+01  -9.42722855e+01  -8.69434204e+01\n",
      "   -7.47697144e+01  -8.81041260e+01  -4.48805275e+01  -3.79076385e+01\n",
      "   -4.07920723e+01  -6.38875961e+01  -6.71459351e+01  -3.52049294e+01\n",
      "   -6.38321724e+01  -4.32352676e+01  -6.50552979e+01  -5.84185486e+01\n",
      "   -6.85210495e+01  -4.99867554e+01  -3.40911980e+01  -3.32477493e+01\n",
      "   -3.60621185e+01  -1.00928726e+02  -9.72369232e+01]\n",
      " [ -8.03482971e+01   2.50622082e+00  -2.62524662e+01   2.46424694e+01\n",
      "   -6.63629990e+01   3.24862099e+00  -3.04695911e+01  -8.12928772e+01\n",
      "   -7.41998978e+01  -9.46346817e+01  -6.10688629e+01  -4.26901293e+00\n",
      "   -5.47559509e+01  -6.23993568e+01  -7.48402071e+00  -4.73926735e+01\n",
      "   -7.58105927e+01  -9.09571304e+01  -6.31697540e+01  -7.01286774e+01\n",
      "   -9.95884476e+01  -1.69105701e+01  -4.07631683e+01  -2.47989674e+01\n",
      "   -9.80898590e+01  -3.89334679e+01  -5.89102287e+01  -5.29288673e+01\n",
      "   -1.20913973e+01  -4.68388605e+00  -1.80646725e+01  -2.85117970e+01\n",
      "   -3.00914154e+01  -7.88316879e+01   5.85624352e-02  -2.51734409e+01\n",
      "   -4.61550179e+01  -7.25485611e+01  -3.60384407e+01  -5.48836327e+01\n",
      "   -6.09880981e+01  -9.97338562e+01  -6.78237076e+01]\n",
      " [  6.82277799e-01   1.41266937e+01   1.61461220e+01   4.55408764e+00\n",
      "   -2.54219742e+01   1.72378044e+01  -2.10981274e+01  -3.31984663e+00\n",
      "   -1.80814781e+01  -2.15652256e+01  -2.66382751e+01  -4.51763725e+01\n",
      "   -5.84793549e+01  -5.10327148e+01  -4.25696373e+01  -2.51682892e+01\n",
      "   -1.80065784e+01  -5.91231117e+01  -6.64828644e+01  -1.94483547e+01\n",
      "   -3.38886070e+01  -1.51755390e+01  -7.10993347e+01  -1.70066624e+01\n",
      "   -3.80527611e+01  -5.94153862e+01  -4.39569092e+01  -5.36353569e+01\n",
      "   -1.90298328e+01  -2.75973186e+01  -4.57104454e+01  -1.30592680e+01\n",
      "   -4.90142174e+01  -3.32035027e+01  -5.02022552e+01  -3.25103264e+01\n",
      "   -5.88389206e+01  -3.56023636e+01  -9.73260403e+00  -1.20952253e+01\n",
      "   -2.31361237e+01  -7.47668457e+01  -5.14071732e+01]\n",
      " [ -1.19517273e+02  -2.08077097e+00  -9.33617115e+00  -9.86579666e+01\n",
      "   -7.52601166e+01  -3.95965157e+01  -8.69132996e+01  -1.76952820e+01\n",
      "   -5.13018951e+01  -5.90934658e+00  -4.81104946e+00   6.12391329e+00\n",
      "    9.60794067e+01  -3.50128479e+01  -6.07470284e+01  -5.17805252e+01\n",
      "   -4.87498055e+01  -4.03364410e+01  -8.02638474e+01   1.15154648e+00\n",
      "   -4.38002129e+01   8.31842273e-02  -1.06537743e+02   1.78446312e+01\n",
      "   -1.01086922e+02  -1.48471880e+01  -9.87766495e+01  -8.27923737e+01\n",
      "   -1.38754797e+01   9.74345028e-01  -2.49653244e+01  -3.06357346e+01\n",
      "   -8.33630600e+01  -1.06128120e+02  -5.91853180e+01  -1.96594563e+01\n",
      "   -9.65350342e+01  -1.35780869e+01  -4.22021179e+01  -4.05737648e+01\n",
      "    3.74830093e+01  -4.89612656e+01  -2.33843212e+01]]\n",
      "\n",
      "[  1.27949089e-33   1.00000000e+00   2.95330288e-37   5.04467447e-44\n",
      "   3.96085319e-33   3.99412633e-26   7.78111856e-31   3.08285662e-44\n",
      "   0.00000000e+00   0.00000000e+00   0.00000000e+00   1.15558120e-38\n",
      "   0.00000000e+00   0.00000000e+00   1.70277128e-30   0.00000000e+00\n",
      "   5.60519386e-45   0.00000000e+00   0.00000000e+00   0.00000000e+00\n",
      "   0.00000000e+00   4.11351164e-41   0.00000000e+00   0.00000000e+00\n",
      "   0.00000000e+00   0.00000000e+00   0.00000000e+00   0.00000000e+00\n",
      "   9.54424384e-42   0.00000000e+00   0.00000000e+00   1.26116862e-44\n",
      "   0.00000000e+00   0.00000000e+00   0.00000000e+00   0.00000000e+00\n",
      "   0.00000000e+00   0.00000000e+00   4.91855761e-43   2.80259693e-45\n",
      "   1.11627436e-41   0.00000000e+00   0.00000000e+00]\n",
      "[  2.27925412e-09   9.91679013e-01   5.01651220e-06   3.57988083e-27\n",
      "   3.94257404e-06   1.87049338e-07   7.02803481e-31   5.73966927e-13\n",
      "   1.73349098e-18   3.82760128e-14   2.18403506e-26   8.62331606e-32\n",
      "   1.38863144e-36   5.53768428e-23   9.67800386e-19   1.04851638e-09\n",
      "   8.18274824e-19   1.69092221e-16   2.80259693e-45   2.62191646e-19\n",
      "   5.50015873e-34   1.76474574e-23   2.07490264e-41   3.41043167e-31\n",
      "   6.21896258e-42   3.65360549e-41   2.28955694e-18   2.46628530e-43\n",
      "   4.24495615e-28   1.86647829e-28   2.84402828e-38   6.60952049e-28\n",
      "   0.00000000e+00   4.68210251e-40   3.61781345e-34   4.55609377e-24\n",
      "   1.16124568e-36   4.47780169e-23   2.27525372e-24   8.31184164e-03\n",
      "   6.02084295e-19   0.00000000e+00   0.00000000e+00]\n",
      "[  3.79758054e-21   9.96634901e-01   7.47695018e-19   2.12953191e-31\n",
      "   3.36514250e-03   6.73613167e-18   5.02816423e-33   4.74286931e-37\n",
      "   3.00120296e-40   1.40129846e-45   0.00000000e+00   1.46131710e-31\n",
      "   0.00000000e+00   3.23279556e-42   2.85602169e-20   1.25674190e-34\n",
      "   5.08250953e-42   0.00000000e+00   1.34610552e-38   0.00000000e+00\n",
      "   0.00000000e+00   1.63573999e-34   0.00000000e+00   0.00000000e+00\n",
      "   0.00000000e+00   0.00000000e+00   7.18846494e-40   7.67228622e-37\n",
      "   4.28774965e-38   0.00000000e+00   0.00000000e+00   1.14470822e-35\n",
      "   0.00000000e+00   3.72530292e-39   0.00000000e+00   1.40129846e-45\n",
      "   0.00000000e+00   4.35663693e-42   3.48643991e-35   8.10374211e-35\n",
      "   4.85762422e-36   0.00000000e+00   0.00000000e+00]\n",
      "[  0.00000000e+00   2.43415926e-10   7.88152571e-23   1.00000000e+00\n",
      "   2.99796596e-40   5.11410525e-10   1.16181294e-24   0.00000000e+00\n",
      "   1.17709071e-43   0.00000000e+00   5.97090978e-38   2.77909233e-13\n",
      "   3.29384652e-35   1.57839611e-38   1.11594295e-14   5.19440433e-32\n",
      "   2.38220739e-44   0.00000000e+00   7.30525056e-39   6.94063129e-42\n",
      "   0.00000000e+00   8.98967999e-19   3.93270712e-29   3.37176140e-22\n",
      "   0.00000000e+00   2.45088019e-28   5.17041108e-37   2.04737458e-34\n",
      "   1.11348397e-16   1.83537945e-13   2.83481000e-19   8.22991682e-24\n",
      "   1.69580147e-24   1.40129846e-45   2.10545140e-11   2.31859574e-22\n",
      "   1.79078230e-31   6.16571324e-43   4.43216993e-27   2.89903539e-35\n",
      "   6.47315813e-38   0.00000000e+00   6.95744688e-41]\n",
      "[  4.67823682e-08   3.22788395e-02   2.43189305e-01   2.24692167e-06\n",
      "   2.15352388e-19   7.24529624e-01   1.62544895e-17   8.55030324e-10\n",
      "   3.31960656e-16   1.01885755e-17   6.38141344e-20   5.67444636e-28\n",
      "   9.47349081e-34   1.62384539e-30   7.69155637e-27   2.77538767e-19\n",
      "   3.57778564e-16   4.97658712e-34   3.16686816e-37   8.46175525e-17\n",
      "   4.53041272e-23   6.06902791e-15   3.13128410e-39   9.72461374e-16\n",
      "   7.04155585e-25   3.71533885e-34   1.92101016e-27   1.20291029e-31\n",
      "   1.28593961e-16   2.44574091e-20   3.32643153e-28   5.03737609e-14\n",
      "   1.22227421e-29   8.98824266e-23   3.72570696e-30   1.79770079e-22\n",
      "   6.61235133e-34   8.16324309e-24   1.40267214e-12   1.32093907e-13\n",
      "   2.11778544e-18   7.99721034e-41   1.11666481e-30]\n",
      "[  0.00000000e+00   2.34016844e-43   0.00000000e+00   0.00000000e+00\n",
      "   0.00000000e+00   0.00000000e+00   0.00000000e+00   0.00000000e+00\n",
      "   0.00000000e+00   5.60519386e-45   1.54142831e-44   8.56696428e-40\n",
      "   1.00000000e+00   0.00000000e+00   0.00000000e+00   0.00000000e+00\n",
      "   0.00000000e+00   0.00000000e+00   0.00000000e+00   5.93449900e-42\n",
      "   0.00000000e+00   2.03888927e-42   0.00000000e+00   1.05455768e-34\n",
      "   0.00000000e+00   0.00000000e+00   0.00000000e+00   0.00000000e+00\n",
      "   0.00000000e+00   4.97040565e-42   0.00000000e+00   0.00000000e+00\n",
      "   0.00000000e+00   0.00000000e+00   0.00000000e+00   0.00000000e+00\n",
      "   0.00000000e+00   0.00000000e+00   0.00000000e+00   0.00000000e+00\n",
      "   3.56375587e-26   0.00000000e+00   0.00000000e+00]\n",
      "\n",
      "TopKV2(values=array([[ 63.3209877 ,   4.83860111,  -5.22431135],\n",
      "       [ 18.80945969,  14.02774143,   6.61503983],\n",
      "       [ 45.24702835,  39.5561142 ,   5.71135283],\n",
      "       [ 24.64246941,   3.24862099,   2.50622082],\n",
      "       [ 17.23780441,  16.14612198,  14.12669373],\n",
      "       [ 96.07940674,  37.48300934,  17.8446312 ]], dtype=float32), indices=array([[ 1,  5, 14],\n",
      "       [ 1, 39,  2],\n",
      "       [ 1,  4,  5],\n",
      "       [ 3,  5,  1],\n",
      "       [ 5,  2,  1],\n",
      "       [12, 40, 23]]))\n",
      "done\n"
     ]
    }
   ],
   "source": [
    "def softmax(x):\n",
    "    \"\"\"Compute softmax values for each sets of scores in x.\"\"\"\n",
    "    e_x = np.exp(x - np.max(x))\n",
    "    return e_x / e_x.sum()\n",
    "\n",
    "with tf.Session() as sess:\n",
    "    loader = tf.train.import_meta_graph('lenet-9.meta')\n",
    "    loader.restore(sess, tf.train.latest_checkpoint('./'))\n",
    "    result =  sess.run(logits, feed_dict={x: X_myValues})\n",
    "    print(result)\n",
    "    print()\n",
    "    for i in range (6):\n",
    "        print (softmax(result[i]))\n",
    "    print()\n",
    "    print(sess.run(tf.nn.top_k(result, k=3)))    \n",
    "print ('done')"
   ]
  },
  {
   "cell_type": "code",
   "execution_count": null,
   "metadata": {
    "collapsed": true
   },
   "outputs": [],
   "source": []
  },
  {
   "cell_type": "markdown",
   "metadata": {},
   "source": [
    "### Question 6\n",
    "\n",
    "_Choose five candidate images of traffic signs and provide them in the report. Are there any particular qualities of the image(s) that might make classification difficult? It could be helpful to plot the images in the notebook._\n",
    "\n"
   ]
  },
  {
   "cell_type": "markdown",
   "metadata": {},
   "source": [
    "**Answer:**"
   ]
  },
  {
   "cell_type": "markdown",
   "metadata": {},
   "source": [
    "The network detected 4 out of 6 signs correctly (After re-running the training again only 3 out of 6 images were classified correctly; seems to depend on the random weights at the beginning). The correctly detected signs are all detected with a probability close to 1. \n",
    "\n",
    "The model detected the 80 signs incorrectly. Instead it detected a 30 km speed limit sign. As *8 and 3 are similar* to each other and there are slightly more 30 signs are in the training set, this error can be explained.\n",
    "\n",
    "In addition the normal 80 sting was ranked 2nd (after the 30 sign) whereas the 80 sign with a *km* string attached was not under the top 3 suggestions\n",
    "(cf. image below)"
   ]
  },
  {
   "cell_type": "code",
   "execution_count": 65,
   "metadata": {
    "collapsed": false
   },
   "outputs": [
    {
     "name": "stdout",
     "output_type": "stream",
     "text": [
      "eighty: {} 1860\n",
      "thirty: {} 2220\n"
     ]
    },
    {
     "data": {
      "text/plain": [
       "<matplotlib.image.AxesImage at 0x991f8d0>"
      ]
     },
     "execution_count": 65,
     "metadata": {},
     "output_type": "execute_result"
    },
    {
     "data": {
      "image/png": "[encoded data removed]",
      "text/plain": [
       "<matplotlib.figure.Figure at 0x997d978>"
      ]
     },
     "metadata": {},
     "output_type": "display_data"
    }
   ],
   "source": [
    "thirty = 0\n",
    "eighty = 0\n",
    "for i in range(len(train['labels'])):\n",
    "    if (train['labels'][i] == 1):\n",
    "        thirty = thirty + 1\n",
    "    if (train['labels'][i] == 5):\n",
    "        eighty = eighty + 1\n",
    "print ('eighty: {}', eighty)  \n",
    "print ('thirty: {}', thirty)  \n",
    "plt.imshow(readImage('./my_signs/image_3.jpg'), cmap='gray') "
   ]
  },
  {
   "cell_type": "markdown",
   "metadata": {},
   "source": [
    "### Question 7\n",
    "\n",
    "_Is your model able to perform equally well on captured pictures when compared to testing on the dataset? The simplest way to do this check the accuracy of the predictions. For example, if the model predicted 1 out of 5 signs correctly, it's 20% accurate._\n",
    "\n",
    "_**NOTE:** You could check the accuracy manually by using `signnames.csv` (same directory). This file has a mapping from the class id (0-42) to the corresponding sign name. So, you could take the class id the model outputs, lookup the name in `signnames.csv` and see if it matches the sign from the image._\n"
   ]
  },
  {
   "cell_type": "markdown",
   "metadata": {},
   "source": [
    "**Answer:**"
   ]
  },
  {
   "cell_type": "markdown",
   "metadata": {
    "collapsed": true
   },
   "source": [
    "4 out of 6 images were recognized correctly\n",
    "From the two images which were not recognized correctly, one was on 3rd position and one on the 4th position of the ordered prediction list. Strangely enough if I retrain the model with exactly the same paramaters, the resulting model is slightly different. Again it detects 4 out of the 6 images correctly but this time different images. As the only thing which changed are the initial randomly assigned weights, the whole model seems to be a little too dependent on this random values. One possibility to change this would be to set sigma to 0.\n"
   ]
  },
  {
   "cell_type": "markdown",
   "metadata": {},
   "source": [
    "### Question 8\n",
    "\n",
    "*Use the model's softmax probabilities to visualize the **certainty** of its predictions, [`tf.nn.top_k`](https://www.tensorflow.org/versions/r0.12/api_docs/python/nn.html#top_k) could prove helpful here. Which predictions is the model certain of? Uncertain? If the model was incorrect in its initial prediction, does the correct prediction appear in the top k? (k should be 5 at most)*\n",
    "\n",
    "`tf.nn.top_k` will return the values and indices (class ids) of the top k predictions. So if k=3, for each sign, it'll return the 3 largest probabilities (out of a possible 43) and the correspoding class ids.\n",
    "\n",
    "Take this numpy array as an example:\n",
    "\n",
    "```\n",
    "# (5, 6) array\n",
    "a = np.array([[ 0.24879643,  0.07032244,  0.12641572,  0.34763842,  0.07893497,\n",
    "         0.12789202],\n",
    "       [ 0.28086119,  0.27569815,  0.08594638,  0.0178669 ,  0.18063401,\n",
    "         0.15899337],\n",
    "       [ 0.26076848,  0.23664738,  0.08020603,  0.07001922,  0.1134371 ,\n",
    "         0.23892179],\n",
    "       [ 0.11943333,  0.29198961,  0.02605103,  0.26234032,  0.1351348 ,\n",
    "         0.16505091],\n",
    "       [ 0.09561176,  0.34396535,  0.0643941 ,  0.16240774,  0.24206137,\n",
    "         0.09155967]])\n",
    "```\n",
    "\n",
    "Running it through `sess.run(tf.nn.top_k(tf.constant(a), k=3))` produces:\n",
    "\n",
    "```\n",
    "TopKV2(values=array([[ 0.34763842,  0.24879643,  0.12789202],\n",
    "       [ 0.28086119,  0.27569815,  0.18063401],\n",
    "       [ 0.26076848,  0.23892179,  0.23664738],\n",
    "       [ 0.29198961,  0.26234032,  0.16505091],\n",
    "       [ 0.34396535,  0.24206137,  0.16240774]]), indices=array([[3, 0, 5],\n",
    "       [0, 1, 4],\n",
    "       [0, 5, 1],\n",
    "       [1, 3, 5],\n",
    "       [1, 4, 3]], dtype=int32))\n",
    "```\n",
    "\n",
    "Looking just at the first row we get `[ 0.34763842,  0.24879643,  0.12789202]`, you can confirm these are the 3 largest probabilities in `a`. You'll also notice `[3, 0, 5]` are the corresponding indices."
   ]
  },
  {
   "cell_type": "markdown",
   "metadata": {},
   "source": [
    "**Answer:**"
   ]
  },
  {
   "cell_type": "markdown",
   "metadata": {},
   "source": [
    "> **Note**: Once you have completed all of the code implementations and successfully answered each question above, you may finalize your work by exporting the iPython Notebook as an HTML document. You can do this by using the menu above and navigating to  \\n\",\n",
    "    \"**File -> Download as -> HTML (.html)**. Include the finished document along with this notebook as your submission."
   ]
  },
  {
   "cell_type": "markdown",
   "metadata": {
    "collapsed": true
   },
   "source": [
    "all information was provided already above. (cf. in[36])"
   ]
  }
 ],
 "metadata": {
  "anaconda-cloud": {},
  "kernelspec": {
   "display_name": "Python [default]",
   "language": "python",
   "name": "python3"
  },
  "language_info": {
   "codemirror_mode": {
    "name": "ipython",
    "version": 3
   },
   "file_extension": ".py",
   "mimetype": "text/x-python",
   "name": "python",
   "nbconvert_exporter": "python",
   "pygments_lexer": "ipython3",
   "version": "3.5.2"
  }
 },
 "nbformat": 4,
 "nbformat_minor": 1
}
